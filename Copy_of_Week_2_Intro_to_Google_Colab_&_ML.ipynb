{
  "nbformat": 4,
  "nbformat_minor": 0,
  "metadata": {
    "colab": {
      "provenance": [],
      "gpuType": "T4",
      "include_colab_link": true
    },
    "kernelspec": {
      "name": "python3",
      "display_name": "Python 3"
    },
    "language_info": {
      "name": "python"
    },
    "accelerator": "GPU"
  },
  "cells": [
    {
      "cell_type": "markdown",
      "metadata": {
        "id": "view-in-github",
        "colab_type": "text"
      },
      "source": [
        "<a href=\"https://colab.research.google.com/github/XIANGYU-MAO/FIT5230/blob/main/Copy_of_Week_2_Intro_to_Google_Colab_%26_ML.ipynb\" target=\"_parent\"><img src=\"https://colab.research.google.com/assets/colab-badge.svg\" alt=\"Open In Colab\"/></a>"
      ]
    },
    {
      "cell_type": "markdown",
      "metadata": {
        "id": "yH42Wy75MgoY"
      },
      "source": [
        "**FIT5230 Malicious AI**\n",
        "# Week 2 Lab: Introduction to Google Colab & Machine Learning\n",
        "\n",
        "👉 ***Copy this Colab notebook to your Drive***\n",
        "\n",
        "Read the instruction and fill the missing code in the Lab Activities. After that, run those cells to observe the results.\n"
      ]
    },
    {
      "cell_type": "markdown",
      "metadata": {
        "id": "y3nT1QW4NImA"
      },
      "source": [
        "# Task 1: Getting Started with Google Colab\n",
        "\n",
        "The document you are reading is not a static web page, but an interactive environment called a **Colab notebook** that lets you write and execute code.\n",
        "\n",
        "For example, here is a **code cell** with a short Python script that computes a value, stores it in a variable, and prints the result:"
      ]
    },
    {
      "cell_type": "code",
      "metadata": {
        "id": "7npXlDYTh7vz",
        "colab": {
          "base_uri": "https://localhost:8080/"
        },
        "outputId": "8d394bd9-303c-48c3-8acf-479b73c13468"
      },
      "source": [
        "seconds_in_a_day = 24 * 60 * 60\n",
        "seconds_in_a_day"
      ],
      "execution_count": null,
      "outputs": [
        {
          "output_type": "execute_result",
          "data": {
            "text/plain": [
              "86400"
            ]
          },
          "metadata": {},
          "execution_count": 1
        }
      ]
    },
    {
      "cell_type": "code",
      "metadata": {
        "id": "hDoulgkEiFQd"
      },
      "source": [
        "## YOUR CODE STARTS HERE ##\n",
        "# Calculate seconds in a week using the variable \"seconds_in_a_day\"\n",
        "seconds_in_a_week =\n",
        "\n",
        "## YOUR CODE ENDS HERE ##\n",
        "seconds_in_a_week"
      ],
      "execution_count": null,
      "outputs": []
    },
    {
      "cell_type": "markdown",
      "metadata": {
        "id": "JfLXIQa5OPlW"
      },
      "source": [
        "## Mounting Google Drive locally\n",
        "\n",
        "The example below shows how to mount your Google Drive on your runtime using an authorization code, and how to write and read files there. Once executed, you will be able to see the new file (`foo.txt`) at [https://drive.google.com/](https://drive.google.com/).\n",
        "\n",
        "This only supports reading, writing, and moving files; to programmatically modify sharing settings or other metadata, use one of the other options below.\n",
        "\n",
        "**Note:** When using the 'Mount Drive' button in the file browser, no authentication codes are necessary for notebooks that have only been edited by the current user."
      ]
    },
    {
      "cell_type": "code",
      "metadata": {
        "id": "uFgEQm10cW5x",
        "colab": {
          "base_uri": "https://localhost:8080/",
          "height": 304
        },
        "outputId": "a20c9a05-c345-41ae-a905-06123868090d"
      },
      "source": [
        "from google.colab import drive\n",
        "drive.mount('/content/drive')"
      ],
      "execution_count": null,
      "outputs": [
        {
          "output_type": "error",
          "ename": "MessageError",
          "evalue": "Error: credential propagation was unsuccessful",
          "traceback": [
            "\u001b[0;31m---------------------------------------------------------------------------\u001b[0m",
            "\u001b[0;31mMessageError\u001b[0m                              Traceback (most recent call last)",
            "\u001b[0;32m/tmp/ipython-input-1408506528.py\u001b[0m in \u001b[0;36m<cell line: 0>\u001b[0;34m()\u001b[0m\n\u001b[1;32m      1\u001b[0m \u001b[0;32mfrom\u001b[0m \u001b[0mgoogle\u001b[0m\u001b[0;34m.\u001b[0m\u001b[0mcolab\u001b[0m \u001b[0;32mimport\u001b[0m \u001b[0mdrive\u001b[0m\u001b[0;34m\u001b[0m\u001b[0;34m\u001b[0m\u001b[0m\n\u001b[0;32m----> 2\u001b[0;31m \u001b[0mdrive\u001b[0m\u001b[0;34m.\u001b[0m\u001b[0mmount\u001b[0m\u001b[0;34m(\u001b[0m\u001b[0;34m'/content/drive'\u001b[0m\u001b[0;34m)\u001b[0m\u001b[0;34m\u001b[0m\u001b[0;34m\u001b[0m\u001b[0m\n\u001b[0m",
            "\u001b[0;32m/usr/local/lib/python3.11/dist-packages/google/colab/drive.py\u001b[0m in \u001b[0;36mmount\u001b[0;34m(mountpoint, force_remount, timeout_ms, readonly)\u001b[0m\n\u001b[1;32m     98\u001b[0m \u001b[0;32mdef\u001b[0m \u001b[0mmount\u001b[0m\u001b[0;34m(\u001b[0m\u001b[0mmountpoint\u001b[0m\u001b[0;34m,\u001b[0m \u001b[0mforce_remount\u001b[0m\u001b[0;34m=\u001b[0m\u001b[0;32mFalse\u001b[0m\u001b[0;34m,\u001b[0m \u001b[0mtimeout_ms\u001b[0m\u001b[0;34m=\u001b[0m\u001b[0;36m120000\u001b[0m\u001b[0;34m,\u001b[0m \u001b[0mreadonly\u001b[0m\u001b[0;34m=\u001b[0m\u001b[0;32mFalse\u001b[0m\u001b[0;34m)\u001b[0m\u001b[0;34m:\u001b[0m\u001b[0;34m\u001b[0m\u001b[0;34m\u001b[0m\u001b[0m\n\u001b[1;32m     99\u001b[0m   \u001b[0;34m\"\"\"Mount your Google Drive at the specified mountpoint path.\"\"\"\u001b[0m\u001b[0;34m\u001b[0m\u001b[0;34m\u001b[0m\u001b[0m\n\u001b[0;32m--> 100\u001b[0;31m   return _mount(\n\u001b[0m\u001b[1;32m    101\u001b[0m       \u001b[0mmountpoint\u001b[0m\u001b[0;34m,\u001b[0m\u001b[0;34m\u001b[0m\u001b[0;34m\u001b[0m\u001b[0m\n\u001b[1;32m    102\u001b[0m       \u001b[0mforce_remount\u001b[0m\u001b[0;34m=\u001b[0m\u001b[0mforce_remount\u001b[0m\u001b[0;34m,\u001b[0m\u001b[0;34m\u001b[0m\u001b[0;34m\u001b[0m\u001b[0m\n",
            "\u001b[0;32m/usr/local/lib/python3.11/dist-packages/google/colab/drive.py\u001b[0m in \u001b[0;36m_mount\u001b[0;34m(mountpoint, force_remount, timeout_ms, ephemeral, readonly)\u001b[0m\n\u001b[1;32m    135\u001b[0m   )\n\u001b[1;32m    136\u001b[0m   \u001b[0;32mif\u001b[0m \u001b[0mephemeral\u001b[0m\u001b[0;34m:\u001b[0m\u001b[0;34m\u001b[0m\u001b[0;34m\u001b[0m\u001b[0m\n\u001b[0;32m--> 137\u001b[0;31m     _message.blocking_request(\n\u001b[0m\u001b[1;32m    138\u001b[0m         \u001b[0;34m'request_auth'\u001b[0m\u001b[0;34m,\u001b[0m\u001b[0;34m\u001b[0m\u001b[0;34m\u001b[0m\u001b[0m\n\u001b[1;32m    139\u001b[0m         \u001b[0mrequest\u001b[0m\u001b[0;34m=\u001b[0m\u001b[0;34m{\u001b[0m\u001b[0;34m'authType'\u001b[0m\u001b[0;34m:\u001b[0m \u001b[0;34m'dfs_ephemeral'\u001b[0m\u001b[0;34m}\u001b[0m\u001b[0;34m,\u001b[0m\u001b[0;34m\u001b[0m\u001b[0;34m\u001b[0m\u001b[0m\n",
            "\u001b[0;32m/usr/local/lib/python3.11/dist-packages/google/colab/_message.py\u001b[0m in \u001b[0;36mblocking_request\u001b[0;34m(request_type, request, timeout_sec, parent)\u001b[0m\n\u001b[1;32m    174\u001b[0m       \u001b[0mrequest_type\u001b[0m\u001b[0;34m,\u001b[0m \u001b[0mrequest\u001b[0m\u001b[0;34m,\u001b[0m \u001b[0mparent\u001b[0m\u001b[0;34m=\u001b[0m\u001b[0mparent\u001b[0m\u001b[0;34m,\u001b[0m \u001b[0mexpect_reply\u001b[0m\u001b[0;34m=\u001b[0m\u001b[0;32mTrue\u001b[0m\u001b[0;34m\u001b[0m\u001b[0;34m\u001b[0m\u001b[0m\n\u001b[1;32m    175\u001b[0m   )\n\u001b[0;32m--> 176\u001b[0;31m   \u001b[0;32mreturn\u001b[0m \u001b[0mread_reply_from_input\u001b[0m\u001b[0;34m(\u001b[0m\u001b[0mrequest_id\u001b[0m\u001b[0;34m,\u001b[0m \u001b[0mtimeout_sec\u001b[0m\u001b[0;34m)\u001b[0m\u001b[0;34m\u001b[0m\u001b[0;34m\u001b[0m\u001b[0m\n\u001b[0m",
            "\u001b[0;32m/usr/local/lib/python3.11/dist-packages/google/colab/_message.py\u001b[0m in \u001b[0;36mread_reply_from_input\u001b[0;34m(message_id, timeout_sec)\u001b[0m\n\u001b[1;32m    101\u001b[0m     ):\n\u001b[1;32m    102\u001b[0m       \u001b[0;32mif\u001b[0m \u001b[0;34m'error'\u001b[0m \u001b[0;32min\u001b[0m \u001b[0mreply\u001b[0m\u001b[0;34m:\u001b[0m\u001b[0;34m\u001b[0m\u001b[0;34m\u001b[0m\u001b[0m\n\u001b[0;32m--> 103\u001b[0;31m         \u001b[0;32mraise\u001b[0m \u001b[0mMessageError\u001b[0m\u001b[0;34m(\u001b[0m\u001b[0mreply\u001b[0m\u001b[0;34m[\u001b[0m\u001b[0;34m'error'\u001b[0m\u001b[0;34m]\u001b[0m\u001b[0;34m)\u001b[0m\u001b[0;34m\u001b[0m\u001b[0;34m\u001b[0m\u001b[0m\n\u001b[0m\u001b[1;32m    104\u001b[0m       \u001b[0;32mreturn\u001b[0m \u001b[0mreply\u001b[0m\u001b[0;34m.\u001b[0m\u001b[0mget\u001b[0m\u001b[0;34m(\u001b[0m\u001b[0;34m'data'\u001b[0m\u001b[0;34m,\u001b[0m \u001b[0;32mNone\u001b[0m\u001b[0;34m)\u001b[0m\u001b[0;34m\u001b[0m\u001b[0;34m\u001b[0m\u001b[0m\n\u001b[1;32m    105\u001b[0m \u001b[0;34m\u001b[0m\u001b[0m\n",
            "\u001b[0;31mMessageError\u001b[0m: Error: credential propagation was unsuccessful"
          ]
        }
      ]
    },
    {
      "cell_type": "code",
      "metadata": {
        "id": "dW_tusxhcXtT",
        "colab": {
          "base_uri": "https://localhost:8080/",
          "height": 193
        },
        "outputId": "167bd457-6a3e-4e6a-c9c4-1ab93230fb2a"
      },
      "source": [
        "with open('/content/drive/My Drive/foo.txt', 'w') as f:\n",
        "  f.write('Hello Google Drive!')\n",
        "\n",
        "!cat /content/drive/My\\ Drive/foo.txt"
      ],
      "execution_count": null,
      "outputs": [
        {
          "output_type": "error",
          "ename": "FileNotFoundError",
          "evalue": "[Errno 2] No such file or directory: '/content/drive/My Drive/foo.txt'",
          "traceback": [
            "\u001b[0;31m---------------------------------------------------------------------------\u001b[0m",
            "\u001b[0;31mFileNotFoundError\u001b[0m                         Traceback (most recent call last)",
            "\u001b[0;32m/tmp/ipython-input-4187221970.py\u001b[0m in \u001b[0;36m<cell line: 0>\u001b[0;34m()\u001b[0m\n\u001b[0;32m----> 1\u001b[0;31m \u001b[0;32mwith\u001b[0m \u001b[0mopen\u001b[0m\u001b[0;34m(\u001b[0m\u001b[0;34m'/content/drive/My Drive/foo.txt'\u001b[0m\u001b[0;34m,\u001b[0m \u001b[0;34m'w'\u001b[0m\u001b[0;34m)\u001b[0m \u001b[0;32mas\u001b[0m \u001b[0mf\u001b[0m\u001b[0;34m:\u001b[0m\u001b[0;34m\u001b[0m\u001b[0;34m\u001b[0m\u001b[0m\n\u001b[0m\u001b[1;32m      2\u001b[0m   \u001b[0mf\u001b[0m\u001b[0;34m.\u001b[0m\u001b[0mwrite\u001b[0m\u001b[0;34m(\u001b[0m\u001b[0;34m'Hello Google Drive!'\u001b[0m\u001b[0;34m)\u001b[0m\u001b[0;34m\u001b[0m\u001b[0;34m\u001b[0m\u001b[0m\n\u001b[1;32m      3\u001b[0m \u001b[0;34m\u001b[0m\u001b[0m\n\u001b[1;32m      4\u001b[0m \u001b[0mget_ipython\u001b[0m\u001b[0;34m(\u001b[0m\u001b[0;34m)\u001b[0m\u001b[0;34m.\u001b[0m\u001b[0msystem\u001b[0m\u001b[0;34m(\u001b[0m\u001b[0;34m'cat /content/drive/My\\\\ Drive/foo.txt'\u001b[0m\u001b[0;34m)\u001b[0m\u001b[0;34m\u001b[0m\u001b[0;34m\u001b[0m\u001b[0m\n",
            "\u001b[0;31mFileNotFoundError\u001b[0m: [Errno 2] No such file or directory: '/content/drive/My Drive/foo.txt'"
          ]
        }
      ]
    },
    {
      "cell_type": "code",
      "metadata": {
        "id": "OMML2AsrcXy8"
      },
      "source": [
        "drive.flush_and_unmount()\n",
        "print('All changes made in this colab session should now be visible in Drive.')"
      ],
      "execution_count": null,
      "outputs": []
    },
    {
      "cell_type": "markdown",
      "metadata": {
        "id": "cjPkSqOZc6uK"
      },
      "source": [
        "\n",
        "## Using Google Colab with GitHub\n",
        "[Google Colaboratory](http://colab.research.google.com) is designed to integrate cleanly with GitHub, allowing both loading notebooks from github and saving notebooks to github.\n",
        "\n",
        "\n",
        "\n",
        "### Loading Public Notebooks Directly from GitHub\n",
        "Colab can load public github notebooks directly, with no required authorization step. For example\n",
        "\n",
        "* Consider the notebook at this address: https://github.com/googlecolab/colabtools/blob/master/notebooks/colab-github-demo.ipynb.\n",
        "\n",
        "* The direct colab link to this notebook is: https://colab.research.google.com/github/googlecolab/colabtools/blob/main/notebooks/colab-github-demo.ipynb.\n",
        "\n",
        "* To generate such links in one click, you can use the [Open in Colab](https://chrome.google.com/webstore/detail/open-in-colab/iogfkhleblhcpcekbiedikdehleodpjo) Chrome extension.\n",
        "\n",
        "\n",
        "### Browsing GitHub Repositories from Colab\n",
        "Colab also supports special URLs that link directly to a GitHub browser for any user/organization, repository, or branch. For example:\n",
        "\n",
        "*  http://colab.research.google.com/github will give you a general github browser, where you can search for any github organization or username.\n",
        "*  http://colab.research.google.com/github/googlecolab/ will open the repository browser for the googlecolab organization. Replace googlecolab with any other github org or user to see their repositories.\n"
      ]
    },
    {
      "cell_type": "markdown",
      "source": [
        "## Executing Shell Commands\n",
        "You can also execute shell commands by prefixing them with the ! character. This allows you to run terminal commands directly from your Colab notebook. For example:\n"
      ],
      "metadata": {
        "id": "eysbQdpR1_3K"
      }
    },
    {
      "cell_type": "code",
      "metadata": {
        "id": "5N8cTy8He9Ce"
      },
      "source": [
        "! git clone https://github.com/facebookresearch/audioseal.git\n"
      ],
      "execution_count": null,
      "outputs": []
    },
    {
      "cell_type": "code",
      "metadata": {
        "id": "CvpZ3Sd7fIQE",
        "colab": {
          "base_uri": "https://localhost:8080/"
        },
        "outputId": "7aeedf68-4a74-4896-982e-3eb3a13aab5c"
      },
      "source": [
        "! pip install numpy"
      ],
      "execution_count": null,
      "outputs": [
        {
          "output_type": "stream",
          "name": "stdout",
          "text": [
            "Requirement already satisfied: pillow in /usr/local/lib/python3.10/dist-packages (9.4.0)\n"
          ]
        }
      ]
    },
    {
      "cell_type": "markdown",
      "metadata": {
        "id": "EP5a7OXKOPt9"
      },
      "source": [
        "## Data Visualization\n",
        "A common use for notebooks is data visualization using charts. Colaboratory makes this easy with several charting tools available as Python imports."
      ]
    },
    {
      "cell_type": "markdown",
      "metadata": {
        "id": "eXFWcFIVfoud"
      },
      "source": [
        "<h1>Example 1</h1>\n",
        "\n",
        "<h2>Chart: Line Plots in Matplotlib</h2>\n"
      ]
    },
    {
      "cell_type": "code",
      "metadata": {
        "id": "YFCj4ZWWgeVZ",
        "colab": {
          "base_uri": "https://localhost:8080/",
          "height": 472
        },
        "outputId": "0a8df061-b8aa-4694-a2d8-d1ab0714564a"
      },
      "source": [
        "import matplotlib.pyplot as plt\n",
        "\n",
        "x  = [1, 2, 3, 4, 5, 6, 7, 8, 9]\n",
        "y1 = [1, 3, 5, 3, 1, 3, 5, 3, 1]\n",
        "y2 = [2, 4, 6, 4, 2, 4, 6, 4, 2]\n",
        "plt.plot(x, y1, label=\"line L\")\n",
        "plt.plot(x, y2, label=\"line H\")\n",
        "plt.plot()\n",
        "\n",
        "plt.xlabel(\"x axis\")\n",
        "plt.ylabel(\"y axis\")\n",
        "plt.title(\"Line Graph Example\")\n",
        "plt.legend()\n",
        "plt.show()"
      ],
      "execution_count": null,
      "outputs": [
        {
          "output_type": "display_data",
          "data": {
            "text/plain": [
              "<Figure size 640x480 with 1 Axes>"
            ],
            "image/png": "[encoded data removed]"
          },
          "metadata": {}
        }
      ]
    },
    {
      "cell_type": "markdown",
      "metadata": {
        "id": "R4m9Zn2Bfo3h"
      },
      "source": [
        "<h1>Example 2</h1>\n",
        "\n",
        "<h2>Visualization: Interactive Scatter Plot in Altair</h2>\n",
        "\n",
        "Altair lets you easily create an interactive scatter plot from data stored in a Pandas dataframe."
      ]
    },
    {
      "cell_type": "code",
      "metadata": {
        "id": "o-tldBDPfUJx",
        "colab": {
          "base_uri": "https://localhost:8080/",
          "height": 420
        },
        "outputId": "d390cf07-983d-461a-8e4c-79ce0e6f07d3"
      },
      "source": [
        "# load an example dataset\n",
        "from vega_datasets import data\n",
        "cars = data.cars()\n",
        "\n",
        "# plot the dataset, referencing dataframe column names\n",
        "import altair as alt\n",
        "alt.Chart(cars).mark_point().encode(\n",
        "  x='Horsepower',\n",
        "  y='Miles_per_Gallon',\n",
        "  color='Origin'\n",
        ").interactive()"
      ],
      "execution_count": null,
      "outputs": [
        {
          "output_type": "stream",
          "name": "stdout",
          "text": [
            "Index(['Name', 'Miles_per_Gallon', 'Cylinders', 'Displacement', 'Horsepower',\n",
            "       'Weight_in_lbs', 'Acceleration', 'Year', 'Origin'],\n",
            "      dtype='object')\n"
          ]
        },
        {
          "output_type": "execute_result",
          "data": {
            "text/html": [
              "\n",
              "<div id=\"altair-viz-ee8f2998d72d4e19bbed7f6a78df3ef1\"></div>\n",
              "<script type=\"text/javascript\">\n",
              "  var VEGA_DEBUG = (typeof VEGA_DEBUG == \"undefined\") ? {} : VEGA_DEBUG;\n",
              "  (function(spec, embedOpt){\n",
              "    let outputDiv = document.currentScript.previousElementSibling;\n",
              "    if (outputDiv.id !== \"altair-viz-ee8f2998d72d4e19bbed7f6a78df3ef1\") {\n",
              "      outputDiv = document.getElementById(\"altair-viz-ee8f2998d72d4e19bbed7f6a78df3ef1\");\n",
              "    }\n",
              "    const paths = {\n",
              "      \"vega\": \"https://cdn.jsdelivr.net/npm//vega@5?noext\",\n",
              "      \"vega-lib\": \"https://cdn.jsdelivr.net/npm//vega-lib?noext\",\n",
              "      \"vega-lite\": \"https://cdn.jsdelivr.net/npm//vega-lite@4.17.0?noext\",\n",
              "      \"vega-embed\": \"https://cdn.jsdelivr.net/npm//vega-embed@6?noext\",\n",
              "    };\n",
              "\n",
              "    function maybeLoadScript(lib, version) {\n",
              "      var key = `${lib.replace(\"-\", \"\")}_version`;\n",
              "      return (VEGA_DEBUG[key] == version) ?\n",
              "        Promise.resolve(paths[lib]) :\n",
              "        new Promise(function(resolve, reject) {\n",
              "          var s = document.createElement('script');\n",
              "          document.getElementsByTagName(\"head\")[0].appendChild(s);\n",
              "          s.async = true;\n",
              "          s.onload = () => {\n",
              "            VEGA_DEBUG[key] = version;\n",
              "            return resolve(paths[lib]);\n",
              "          };\n",
              "          s.onerror = () => reject(`Error loading script: ${paths[lib]}`);\n",
              "          s.src = paths[lib];\n",
              "        });\n",
              "    }\n",
              "\n",
              "    function showError(err) {\n",
              "      outputDiv.innerHTML = `<div class=\"error\" style=\"color:red;\">${err}</div>`;\n",
              "      throw err;\n",
              "    }\n",
              "\n",
              "    function displayChart(vegaEmbed) {\n",
              "      vegaEmbed(outputDiv, spec, embedOpt)\n",
              "        .catch(err => showError(`Javascript Error: ${err.message}<br>This usually means there's a typo in your chart specification. See the javascript console for the full traceback.`));\n",
              "    }\n",
              "\n",
              "    if(typeof define === \"function\" && define.amd) {\n",
              "      requirejs.config({paths});\n",
              "      require([\"vega-embed\"], displayChart, err => showError(`Error loading script: ${err.message}`));\n",
              "    } else {\n",
              "      maybeLoadScript(\"vega\", \"5\")\n",
              "        .then(() => maybeLoadScript(\"vega-lite\", \"4.17.0\"))\n",
              "        .then(() => maybeLoadScript(\"vega-embed\", \"6\"))\n",
              "        .catch(showError)\n",
              "        .then(() => displayChart(vegaEmbed));\n",
              "    }\n",
              "  })({\"config\": {\"view\": {\"continuousWidth\": 400, \"continuousHeight\": 300}}, \"data\": {\"name\": \"data-f02450ab61490a1363517a0190416235\"}, \"mark\": \"point\", \"encoding\": {\"color\": {\"field\": \"Origin\", \"type\": \"nominal\"}, \"x\": {\"field\": \"Horsepower\", \"type\": \"quantitative\"}, \"y\": {\"field\": \"Miles_per_Gallon\", \"type\": \"quantitative\"}}, \"selection\": {\"selector004\": {\"type\": \"interval\", \"bind\": \"scales\", \"encodings\": [\"x\", \"y\"]}}, \"$schema\": \"https://vega.github.io/schema/vega-lite/v4.17.0.json\", \"datasets\": {\"data-f02450ab61490a1363517a0190416235\": [{\"Name\": \"chevrolet chevelle malibu\", \"Miles_per_Gallon\": 18.0, \"Cylinders\": 8, \"Displacement\": 307.0, \"Horsepower\": 130.0, \"Weight_in_lbs\": 3504, \"Acceleration\": 12.0, \"Year\": \"1970-01-01T00:00:00\", \"Origin\": \"USA\"}, {\"Name\": \"buick skylark 320\", \"Miles_per_Gallon\": 15.0, \"Cylinders\": 8, \"Displacement\": 350.0, \"Horsepower\": 165.0, \"Weight_in_lbs\": 3693, \"Acceleration\": 11.5, \"Year\": \"1970-01-01T00:00:00\", \"Origin\": \"USA\"}, {\"Name\": \"plymouth satellite\", \"Miles_per_Gallon\": 18.0, \"Cylinders\": 8, \"Displacement\": 318.0, \"Horsepower\": 150.0, \"Weight_in_lbs\": 3436, \"Acceleration\": 11.0, \"Year\": \"1970-01-01T00:00:00\", \"Origin\": \"USA\"}, {\"Name\": \"amc rebel sst\", \"Miles_per_Gallon\": 16.0, \"Cylinders\": 8, \"Displacement\": 304.0, \"Horsepower\": 150.0, \"Weight_in_lbs\": 3433, \"Acceleration\": 12.0, \"Year\": \"1970-01-01T00:00:00\", \"Origin\": \"USA\"}, {\"Name\": \"ford torino\", \"Miles_per_Gallon\": 17.0, \"Cylinders\": 8, \"Displacement\": 302.0, \"Horsepower\": 140.0, \"Weight_in_lbs\": 3449, \"Acceleration\": 10.5, \"Year\": \"1970-01-01T00:00:00\", \"Origin\": \"USA\"}, {\"Name\": \"ford galaxie 500\", \"Miles_per_Gallon\": 15.0, \"Cylinders\": 8, \"Displacement\": 429.0, \"Horsepower\": 198.0, \"Weight_in_lbs\": 4341, \"Acceleration\": 10.0, \"Year\": \"1970-01-01T00:00:00\", \"Origin\": \"USA\"}, {\"Name\": \"chevrolet impala\", \"Miles_per_Gallon\": 14.0, \"Cylinders\": 8, \"Displacement\": 454.0, \"Horsepower\": 220.0, \"Weight_in_lbs\": 4354, \"Acceleration\": 9.0, \"Year\": \"1970-01-01T00:00:00\", \"Origin\": \"USA\"}, {\"Name\": \"plymouth fury iii\", \"Miles_per_Gallon\": 14.0, \"Cylinders\": 8, \"Displacement\": 440.0, \"Horsepower\": 215.0, \"Weight_in_lbs\": 4312, \"Acceleration\": 8.5, \"Year\": \"1970-01-01T00:00:00\", \"Origin\": \"USA\"}, {\"Name\": \"pontiac catalina\", \"Miles_per_Gallon\": 14.0, \"Cylinders\": 8, \"Displacement\": 455.0, \"Horsepower\": 225.0, \"Weight_in_lbs\": 4425, \"Acceleration\": 10.0, \"Year\": \"1970-01-01T00:00:00\", \"Origin\": \"USA\"}, {\"Name\": \"amc ambassador dpl\", \"Miles_per_Gallon\": 15.0, \"Cylinders\": 8, \"Displacement\": 390.0, \"Horsepower\": 190.0, \"Weight_in_lbs\": 3850, \"Acceleration\": 8.5, \"Year\": \"1970-01-01T00:00:00\", \"Origin\": \"USA\"}, {\"Name\": \"citroen ds-21 pallas\", \"Miles_per_Gallon\": null, \"Cylinders\": 4, \"Displacement\": 133.0, \"Horsepower\": 115.0, \"Weight_in_lbs\": 3090, \"Acceleration\": 17.5, \"Year\": \"1970-01-01T00:00:00\", \"Origin\": \"Europe\"}, {\"Name\": \"chevrolet chevelle concours (sw)\", \"Miles_per_Gallon\": null, \"Cylinders\": 8, \"Displacement\": 350.0, \"Horsepower\": 165.0, \"Weight_in_lbs\": 4142, \"Acceleration\": 11.5, \"Year\": \"1970-01-01T00:00:00\", \"Origin\": \"USA\"}, {\"Name\": \"ford torino (sw)\", \"Miles_per_Gallon\": null, \"Cylinders\": 8, \"Displacement\": 351.0, \"Horsepower\": 153.0, \"Weight_in_lbs\": 4034, \"Acceleration\": 11.0, \"Year\": \"1970-01-01T00:00:00\", \"Origin\": \"USA\"}, {\"Name\": \"plymouth satellite (sw)\", \"Miles_per_Gallon\": null, \"Cylinders\": 8, \"Displacement\": 383.0, \"Horsepower\": 175.0, \"Weight_in_lbs\": 4166, \"Acceleration\": 10.5, \"Year\": \"1970-01-01T00:00:00\", \"Origin\": \"USA\"}, {\"Name\": \"amc rebel sst (sw)\", \"Miles_per_Gallon\": null, \"Cylinders\": 8, \"Displacement\": 360.0, \"Horsepower\": 175.0, \"Weight_in_lbs\": 3850, \"Acceleration\": 11.0, \"Year\": \"1970-01-01T00:00:00\", \"Origin\": \"USA\"}, {\"Name\": \"dodge challenger se\", \"Miles_per_Gallon\": 15.0, \"Cylinders\": 8, \"Displacement\": 383.0, \"Horsepower\": 170.0, \"Weight_in_lbs\": 3563, \"Acceleration\": 10.0, \"Year\": \"1970-01-01T00:00:00\", \"Origin\": \"USA\"}, {\"Name\": \"plymouth 'cuda 340\", \"Miles_per_Gallon\": 14.0, \"Cylinders\": 8, \"Displacement\": 340.0, \"Horsepower\": 160.0, \"Weight_in_lbs\": 3609, \"Acceleration\": 8.0, \"Year\": \"1970-01-01T00:00:00\", \"Origin\": \"USA\"}, {\"Name\": \"ford mustang boss 302\", \"Miles_per_Gallon\": null, \"Cylinders\": 8, \"Displacement\": 302.0, \"Horsepower\": 140.0, \"Weight_in_lbs\": 3353, \"Acceleration\": 8.0, \"Year\": \"1970-01-01T00:00:00\", \"Origin\": \"USA\"}, {\"Name\": \"chevrolet monte carlo\", \"Miles_per_Gallon\": 15.0, \"Cylinders\": 8, \"Displacement\": 400.0, \"Horsepower\": 150.0, \"Weight_in_lbs\": 3761, \"Acceleration\": 9.5, \"Year\": \"1970-01-01T00:00:00\", \"Origin\": \"USA\"}, {\"Name\": \"buick estate wagon (sw)\", \"Miles_per_Gallon\": 14.0, \"Cylinders\": 8, \"Displacement\": 455.0, \"Horsepower\": 225.0, \"Weight_in_lbs\": 3086, \"Acceleration\": 10.0, \"Year\": \"1970-01-01T00:00:00\", \"Origin\": \"USA\"}, {\"Name\": \"toyota corona mark ii\", \"Miles_per_Gallon\": 24.0, \"Cylinders\": 4, \"Displacement\": 113.0, \"Horsepower\": 95.0, \"Weight_in_lbs\": 2372, \"Acceleration\": 15.0, \"Year\": \"1970-01-01T00:00:00\", \"Origin\": \"Japan\"}, {\"Name\": \"plymouth duster\", \"Miles_per_Gallon\": 22.0, \"Cylinders\": 6, \"Displacement\": 198.0, \"Horsepower\": 95.0, \"Weight_in_lbs\": 2833, \"Acceleration\": 15.5, \"Year\": \"1970-01-01T00:00:00\", \"Origin\": \"USA\"}, {\"Name\": \"amc hornet\", \"Miles_per_Gallon\": 18.0, \"Cylinders\": 6, \"Displacement\": 199.0, \"Horsepower\": 97.0, \"Weight_in_lbs\": 2774, \"Acceleration\": 15.5, \"Year\": \"1970-01-01T00:00:00\", \"Origin\": \"USA\"}, {\"Name\": \"ford maverick\", \"Miles_per_Gallon\": 21.0, \"Cylinders\": 6, \"Displacement\": 200.0, \"Horsepower\": 85.0, \"Weight_in_lbs\": 2587, \"Acceleration\": 16.0, \"Year\": \"1970-01-01T00:00:00\", \"Origin\": \"USA\"}, {\"Name\": \"datsun pl510\", \"Miles_per_Gallon\": 27.0, \"Cylinders\": 4, \"Displacement\": 97.0, \"Horsepower\": 88.0, \"Weight_in_lbs\": 2130, \"Acceleration\": 14.5, \"Year\": \"1970-01-01T00:00:00\", \"Origin\": \"Japan\"}, {\"Name\": \"volkswagen 1131 deluxe sedan\", \"Miles_per_Gallon\": 26.0, \"Cylinders\": 4, \"Displacement\": 97.0, \"Horsepower\": 46.0, \"Weight_in_lbs\": 1835, \"Acceleration\": 20.5, \"Year\": \"1970-01-01T00:00:00\", \"Origin\": \"Europe\"}, {\"Name\": \"peugeot 504\", \"Miles_per_Gallon\": 25.0, \"Cylinders\": 4, \"Displacement\": 110.0, \"Horsepower\": 87.0, \"Weight_in_lbs\": 2672, \"Acceleration\": 17.5, \"Year\": \"1970-01-01T00:00:00\", \"Origin\": \"Europe\"}, {\"Name\": \"audi 100 ls\", \"Miles_per_Gallon\": 24.0, \"Cylinders\": 4, \"Displacement\": 107.0, \"Horsepower\": 90.0, \"Weight_in_lbs\": 2430, \"Acceleration\": 14.5, \"Year\": \"1970-01-01T00:00:00\", \"Origin\": \"Europe\"}, {\"Name\": \"saab 99e\", \"Miles_per_Gallon\": 25.0, \"Cylinders\": 4, \"Displacement\": 104.0, \"Horsepower\": 95.0, \"Weight_in_lbs\": 2375, \"Acceleration\": 17.5, \"Year\": \"1970-01-01T00:00:00\", \"Origin\": \"Europe\"}, {\"Name\": \"bmw 2002\", \"Miles_per_Gallon\": 26.0, \"Cylinders\": 4, \"Displacement\": 121.0, \"Horsepower\": 113.0, \"Weight_in_lbs\": 2234, \"Acceleration\": 12.5, \"Year\": \"1970-01-01T00:00:00\", \"Origin\": \"Europe\"}, {\"Name\": \"amc gremlin\", \"Miles_per_Gallon\": 21.0, \"Cylinders\": 6, \"Displacement\": 199.0, \"Horsepower\": 90.0, \"Weight_in_lbs\": 2648, \"Acceleration\": 15.0, \"Year\": \"1970-01-01T00:00:00\", \"Origin\": \"USA\"}, {\"Name\": \"ford f250\", \"Miles_per_Gallon\": 10.0, \"Cylinders\": 8, \"Displacement\": 360.0, \"Horsepower\": 215.0, \"Weight_in_lbs\": 4615, \"Acceleration\": 14.0, \"Year\": \"1970-01-01T00:00:00\", \"Origin\": \"USA\"}, {\"Name\": \"chevy c20\", \"Miles_per_Gallon\": 10.0, \"Cylinders\": 8, \"Displacement\": 307.0, \"Horsepower\": 200.0, \"Weight_in_lbs\": 4376, \"Acceleration\": 15.0, \"Year\": \"1970-01-01T00:00:00\", \"Origin\": \"USA\"}, {\"Name\": \"dodge d200\", \"Miles_per_Gallon\": 11.0, \"Cylinders\": 8, \"Displacement\": 318.0, \"Horsepower\": 210.0, \"Weight_in_lbs\": 4382, \"Acceleration\": 13.5, \"Year\": \"1970-01-01T00:00:00\", \"Origin\": \"USA\"}, {\"Name\": \"hi 1200d\", \"Miles_per_Gallon\": 9.0, \"Cylinders\": 8, \"Displacement\": 304.0, \"Horsepower\": 193.0, \"Weight_in_lbs\": 4732, \"Acceleration\": 18.5, \"Year\": \"1970-01-01T00:00:00\", \"Origin\": \"USA\"}, {\"Name\": \"datsun pl510\", \"Miles_per_Gallon\": 27.0, \"Cylinders\": 4, \"Displacement\": 97.0, \"Horsepower\": 88.0, \"Weight_in_lbs\": 2130, \"Acceleration\": 14.5, \"Year\": \"1971-01-01T00:00:00\", \"Origin\": \"Japan\"}, {\"Name\": \"chevrolet vega 2300\", \"Miles_per_Gallon\": 28.0, \"Cylinders\": 4, \"Displacement\": 140.0, \"Horsepower\": 90.0, \"Weight_in_lbs\": 2264, \"Acceleration\": 15.5, \"Year\": \"1971-01-01T00:00:00\", \"Origin\": \"USA\"}, {\"Name\": \"toyota corona\", \"Miles_per_Gallon\": 25.0, \"Cylinders\": 4, \"Displacement\": 113.0, \"Horsepower\": 95.0, \"Weight_in_lbs\": 2228, \"Acceleration\": 14.0, \"Year\": \"1971-01-01T00:00:00\", \"Origin\": \"Japan\"}, {\"Name\": \"ford pinto\", \"Miles_per_Gallon\": 25.0, \"Cylinders\": 4, \"Displacement\": 98.0, \"Horsepower\": null, \"Weight_in_lbs\": 2046, \"Acceleration\": 19.0, \"Year\": \"1971-01-01T00:00:00\", \"Origin\": \"USA\"}, {\"Name\": \"volkswagen super beetle 117\", \"Miles_per_Gallon\": null, \"Cylinders\": 4, \"Displacement\": 97.0, \"Horsepower\": 48.0, \"Weight_in_lbs\": 1978, \"Acceleration\": 20.0, \"Year\": \"1971-01-01T00:00:00\", \"Origin\": \"Europe\"}, {\"Name\": \"amc gremlin\", \"Miles_per_Gallon\": 19.0, \"Cylinders\": 6, \"Displacement\": 232.0, \"Horsepower\": 100.0, \"Weight_in_lbs\": 2634, \"Acceleration\": 13.0, \"Year\": \"1971-01-01T00:00:00\", \"Origin\": \"USA\"}, {\"Name\": \"plymouth satellite custom\", \"Miles_per_Gallon\": 16.0, \"Cylinders\": 6, \"Displacement\": 225.0, \"Horsepower\": 105.0, \"Weight_in_lbs\": 3439, \"Acceleration\": 15.5, \"Year\": \"1971-01-01T00:00:00\", \"Origin\": \"USA\"}, {\"Name\": \"chevrolet chevelle malibu\", \"Miles_per_Gallon\": 17.0, \"Cylinders\": 6, \"Displacement\": 250.0, \"Horsepower\": 100.0, \"Weight_in_lbs\": 3329, \"Acceleration\": 15.5, \"Year\": \"1971-01-01T00:00:00\", \"Origin\": \"USA\"}, {\"Name\": \"ford torino 500\", \"Miles_per_Gallon\": 19.0, \"Cylinders\": 6, \"Displacement\": 250.0, \"Horsepower\": 88.0, \"Weight_in_lbs\": 3302, \"Acceleration\": 15.5, \"Year\": \"1971-01-01T00:00:00\", \"Origin\": \"USA\"}, {\"Name\": \"amc matador\", \"Miles_per_Gallon\": 18.0, \"Cylinders\": 6, \"Displacement\": 232.0, \"Horsepower\": 100.0, \"Weight_in_lbs\": 3288, \"Acceleration\": 15.5, \"Year\": \"1971-01-01T00:00:00\", \"Origin\": \"USA\"}, {\"Name\": \"chevrolet impala\", \"Miles_per_Gallon\": 14.0, \"Cylinders\": 8, \"Displacement\": 350.0, \"Horsepower\": 165.0, \"Weight_in_lbs\": 4209, \"Acceleration\": 12.0, \"Year\": \"1971-01-01T00:00:00\", \"Origin\": \"USA\"}, {\"Name\": \"pontiac catalina brougham\", \"Miles_per_Gallon\": 14.0, \"Cylinders\": 8, \"Displacement\": 400.0, \"Horsepower\": 175.0, \"Weight_in_lbs\": 4464, \"Acceleration\": 11.5, \"Year\": \"1971-01-01T00:00:00\", \"Origin\": \"USA\"}, {\"Name\": \"ford galaxie 500\", \"Miles_per_Gallon\": 14.0, \"Cylinders\": 8, \"Displacement\": 351.0, \"Horsepower\": 153.0, \"Weight_in_lbs\": 4154, \"Acceleration\": 13.5, \"Year\": \"1971-01-01T00:00:00\", \"Origin\": \"USA\"}, {\"Name\": \"plymouth fury iii\", \"Miles_per_Gallon\": 14.0, \"Cylinders\": 8, \"Displacement\": 318.0, \"Horsepower\": 150.0, \"Weight_in_lbs\": 4096, \"Acceleration\": 13.0, \"Year\": \"1971-01-01T00:00:00\", \"Origin\": \"USA\"}, {\"Name\": \"dodge monaco (sw)\", \"Miles_per_Gallon\": 12.0, \"Cylinders\": 8, \"Displacement\": 383.0, \"Horsepower\": 180.0, \"Weight_in_lbs\": 4955, \"Acceleration\": 11.5, \"Year\": \"1971-01-01T00:00:00\", \"Origin\": \"USA\"}, {\"Name\": \"ford country squire (sw)\", \"Miles_per_Gallon\": 13.0, \"Cylinders\": 8, \"Displacement\": 400.0, \"Horsepower\": 170.0, \"Weight_in_lbs\": 4746, \"Acceleration\": 12.0, \"Year\": \"1971-01-01T00:00:00\", \"Origin\": \"USA\"}, {\"Name\": \"pontiac safari (sw)\", \"Miles_per_Gallon\": 13.0, \"Cylinders\": 8, \"Displacement\": 400.0, \"Horsepower\": 175.0, \"Weight_in_lbs\": 5140, \"Acceleration\": 12.0, \"Year\": \"1971-01-01T00:00:00\", \"Origin\": \"USA\"}, {\"Name\": \"amc hornet sportabout (sw)\", \"Miles_per_Gallon\": 18.0, \"Cylinders\": 6, \"Displacement\": 258.0, \"Horsepower\": 110.0, \"Weight_in_lbs\": 2962, \"Acceleration\": 13.5, \"Year\": \"1971-01-01T00:00:00\", \"Origin\": \"USA\"}, {\"Name\": \"chevrolet vega (sw)\", \"Miles_per_Gallon\": 22.0, \"Cylinders\": 4, \"Displacement\": 140.0, \"Horsepower\": 72.0, \"Weight_in_lbs\": 2408, \"Acceleration\": 19.0, \"Year\": \"1971-01-01T00:00:00\", \"Origin\": \"USA\"}, {\"Name\": \"pontiac firebird\", \"Miles_per_Gallon\": 19.0, \"Cylinders\": 6, \"Displacement\": 250.0, \"Horsepower\": 100.0, \"Weight_in_lbs\": 3282, \"Acceleration\": 15.0, \"Year\": \"1971-01-01T00:00:00\", \"Origin\": \"USA\"}, {\"Name\": \"ford mustang\", \"Miles_per_Gallon\": 18.0, \"Cylinders\": 6, \"Displacement\": 250.0, \"Horsepower\": 88.0, \"Weight_in_lbs\": 3139, \"Acceleration\": 14.5, \"Year\": \"1971-01-01T00:00:00\", \"Origin\": \"USA\"}, {\"Name\": \"mercury capri 2000\", \"Miles_per_Gallon\": 23.0, \"Cylinders\": 4, \"Displacement\": 122.0, \"Horsepower\": 86.0, \"Weight_in_lbs\": 2220, \"Acceleration\": 14.0, \"Year\": \"1971-01-01T00:00:00\", \"Origin\": \"USA\"}, {\"Name\": \"opel 1900\", \"Miles_per_Gallon\": 28.0, \"Cylinders\": 4, \"Displacement\": 116.0, \"Horsepower\": 90.0, \"Weight_in_lbs\": 2123, \"Acceleration\": 14.0, \"Year\": \"1971-01-01T00:00:00\", \"Origin\": \"Europe\"}, {\"Name\": \"peugeot 304\", \"Miles_per_Gallon\": 30.0, \"Cylinders\": 4, \"Displacement\": 79.0, \"Horsepower\": 70.0, \"Weight_in_lbs\": 2074, \"Acceleration\": 19.5, \"Year\": \"1971-01-01T00:00:00\", \"Origin\": \"Europe\"}, {\"Name\": \"fiat 124b\", \"Miles_per_Gallon\": 30.0, \"Cylinders\": 4, \"Displacement\": 88.0, \"Horsepower\": 76.0, \"Weight_in_lbs\": 2065, \"Acceleration\": 14.5, \"Year\": \"1971-01-01T00:00:00\", \"Origin\": \"Europe\"}, {\"Name\": \"toyota corolla 1200\", \"Miles_per_Gallon\": 31.0, \"Cylinders\": 4, \"Displacement\": 71.0, \"Horsepower\": 65.0, \"Weight_in_lbs\": 1773, \"Acceleration\": 19.0, \"Year\": \"1971-01-01T00:00:00\", \"Origin\": \"Japan\"}, {\"Name\": \"datsun 1200\", \"Miles_per_Gallon\": 35.0, \"Cylinders\": 4, \"Displacement\": 72.0, \"Horsepower\": 69.0, \"Weight_in_lbs\": 1613, \"Acceleration\": 18.0, \"Year\": \"1971-01-01T00:00:00\", \"Origin\": \"Japan\"}, {\"Name\": \"volkswagen model 111\", \"Miles_per_Gallon\": 27.0, \"Cylinders\": 4, \"Displacement\": 97.0, \"Horsepower\": 60.0, \"Weight_in_lbs\": 1834, \"Acceleration\": 19.0, \"Year\": \"1971-01-01T00:00:00\", \"Origin\": \"Europe\"}, {\"Name\": \"plymouth cricket\", \"Miles_per_Gallon\": 26.0, \"Cylinders\": 4, \"Displacement\": 91.0, \"Horsepower\": 70.0, \"Weight_in_lbs\": 1955, \"Acceleration\": 20.5, \"Year\": \"1971-01-01T00:00:00\", \"Origin\": \"USA\"}, {\"Name\": \"toyota corona hardtop\", \"Miles_per_Gallon\": 24.0, \"Cylinders\": 4, \"Displacement\": 113.0, \"Horsepower\": 95.0, \"Weight_in_lbs\": 2278, \"Acceleration\": 15.5, \"Year\": \"1972-01-01T00:00:00\", \"Origin\": \"Japan\"}, {\"Name\": \"dodge colt hardtop\", \"Miles_per_Gallon\": 25.0, \"Cylinders\": 4, \"Displacement\": 97.5, \"Horsepower\": 80.0, \"Weight_in_lbs\": 2126, \"Acceleration\": 17.0, \"Year\": \"1972-01-01T00:00:00\", \"Origin\": \"USA\"}, {\"Name\": \"volkswagen type 3\", \"Miles_per_Gallon\": 23.0, \"Cylinders\": 4, \"Displacement\": 97.0, \"Horsepower\": 54.0, \"Weight_in_lbs\": 2254, \"Acceleration\": 23.5, \"Year\": \"1972-01-01T00:00:00\", \"Origin\": \"Europe\"}, {\"Name\": \"chevrolet vega\", \"Miles_per_Gallon\": 20.0, \"Cylinders\": 4, \"Displacement\": 140.0, \"Horsepower\": 90.0, \"Weight_in_lbs\": 2408, \"Acceleration\": 19.5, \"Year\": \"1972-01-01T00:00:00\", \"Origin\": \"USA\"}, {\"Name\": \"ford pinto runabout\", \"Miles_per_Gallon\": 21.0, \"Cylinders\": 4, \"Displacement\": 122.0, \"Horsepower\": 86.0, \"Weight_in_lbs\": 2226, \"Acceleration\": 16.5, \"Year\": \"1972-01-01T00:00:00\", \"Origin\": \"USA\"}, {\"Name\": \"chevrolet impala\", \"Miles_per_Gallon\": 13.0, \"Cylinders\": 8, \"Displacement\": 350.0, \"Horsepower\": 165.0, \"Weight_in_lbs\": 4274, \"Acceleration\": 12.0, \"Year\": \"1972-01-01T00:00:00\", \"Origin\": \"USA\"}, {\"Name\": \"pontiac catalina\", \"Miles_per_Gallon\": 14.0, \"Cylinders\": 8, \"Displacement\": 400.0, \"Horsepower\": 175.0, \"Weight_in_lbs\": 4385, \"Acceleration\": 12.0, \"Year\": \"1972-01-01T00:00:00\", \"Origin\": \"USA\"}, {\"Name\": \"plymouth fury iii\", \"Miles_per_Gallon\": 15.0, \"Cylinders\": 8, \"Displacement\": 318.0, \"Horsepower\": 150.0, \"Weight_in_lbs\": 4135, \"Acceleration\": 13.5, \"Year\": \"1972-01-01T00:00:00\", \"Origin\": \"USA\"}, {\"Name\": \"ford galaxie 500\", \"Miles_per_Gallon\": 14.0, \"Cylinders\": 8, \"Displacement\": 351.0, \"Horsepower\": 153.0, \"Weight_in_lbs\": 4129, \"Acceleration\": 13.0, \"Year\": \"1972-01-01T00:00:00\", \"Origin\": \"USA\"}, {\"Name\": \"amc ambassador sst\", \"Miles_per_Gallon\": 17.0, \"Cylinders\": 8, \"Displacement\": 304.0, \"Horsepower\": 150.0, \"Weight_in_lbs\": 3672, \"Acceleration\": 11.5, \"Year\": \"1972-01-01T00:00:00\", \"Origin\": \"USA\"}, {\"Name\": \"mercury marquis\", \"Miles_per_Gallon\": 11.0, \"Cylinders\": 8, \"Displacement\": 429.0, \"Horsepower\": 208.0, \"Weight_in_lbs\": 4633, \"Acceleration\": 11.0, \"Year\": \"1972-01-01T00:00:00\", \"Origin\": \"USA\"}, {\"Name\": \"buick lesabre custom\", \"Miles_per_Gallon\": 13.0, \"Cylinders\": 8, \"Displacement\": 350.0, \"Horsepower\": 155.0, \"Weight_in_lbs\": 4502, \"Acceleration\": 13.5, \"Year\": \"1972-01-01T00:00:00\", \"Origin\": \"USA\"}, {\"Name\": \"oldsmobile delta 88 royale\", \"Miles_per_Gallon\": 12.0, \"Cylinders\": 8, \"Displacement\": 350.0, \"Horsepower\": 160.0, \"Weight_in_lbs\": 4456, \"Acceleration\": 13.5, \"Year\": \"1972-01-01T00:00:00\", \"Origin\": \"USA\"}, {\"Name\": \"chrysler newport royal\", \"Miles_per_Gallon\": 13.0, \"Cylinders\": 8, \"Displacement\": 400.0, \"Horsepower\": 190.0, \"Weight_in_lbs\": 4422, \"Acceleration\": 12.5, \"Year\": \"1972-01-01T00:00:00\", \"Origin\": \"USA\"}, {\"Name\": \"mazda rx2 coupe\", \"Miles_per_Gallon\": 19.0, \"Cylinders\": 3, \"Displacement\": 70.0, \"Horsepower\": 97.0, \"Weight_in_lbs\": 2330, \"Acceleration\": 13.5, \"Year\": \"1972-01-01T00:00:00\", \"Origin\": \"Japan\"}, {\"Name\": \"amc matador (sw)\", \"Miles_per_Gallon\": 15.0, \"Cylinders\": 8, \"Displacement\": 304.0, \"Horsepower\": 150.0, \"Weight_in_lbs\": 3892, \"Acceleration\": 12.5, \"Year\": \"1972-01-01T00:00:00\", \"Origin\": \"USA\"}, {\"Name\": \"chevrolet chevelle concours (sw)\", \"Miles_per_Gallon\": 13.0, \"Cylinders\": 8, \"Displacement\": 307.0, \"Horsepower\": 130.0, \"Weight_in_lbs\": 4098, \"Acceleration\": 14.0, \"Year\": \"1972-01-01T00:00:00\", \"Origin\": \"USA\"}, {\"Name\": \"ford gran torino (sw)\", \"Miles_per_Gallon\": 13.0, \"Cylinders\": 8, \"Displacement\": 302.0, \"Horsepower\": 140.0, \"Weight_in_lbs\": 4294, \"Acceleration\": 16.0, \"Year\": \"1972-01-01T00:00:00\", \"Origin\": \"USA\"}, {\"Name\": \"plymouth satellite custom (sw)\", \"Miles_per_Gallon\": 14.0, \"Cylinders\": 8, \"Displacement\": 318.0, \"Horsepower\": 150.0, \"Weight_in_lbs\": 4077, \"Acceleration\": 14.0, \"Year\": \"1972-01-01T00:00:00\", \"Origin\": \"USA\"}, {\"Name\": \"volvo 145e (sw)\", \"Miles_per_Gallon\": 18.0, \"Cylinders\": 4, \"Displacement\": 121.0, \"Horsepower\": 112.0, \"Weight_in_lbs\": 2933, \"Acceleration\": 14.5, \"Year\": \"1972-01-01T00:00:00\", \"Origin\": \"Europe\"}, {\"Name\": \"volkswagen 411 (sw)\", \"Miles_per_Gallon\": 22.0, \"Cylinders\": 4, \"Displacement\": 121.0, \"Horsepower\": 76.0, \"Weight_in_lbs\": 2511, \"Acceleration\": 18.0, \"Year\": \"1972-01-01T00:00:00\", \"Origin\": \"Europe\"}, {\"Name\": \"peugeot 504 (sw)\", \"Miles_per_Gallon\": 21.0, \"Cylinders\": 4, \"Displacement\": 120.0, \"Horsepower\": 87.0, \"Weight_in_lbs\": 2979, \"Acceleration\": 19.5, \"Year\": \"1972-01-01T00:00:00\", \"Origin\": \"Europe\"}, {\"Name\": \"renault 12 (sw)\", \"Miles_per_Gallon\": 26.0, \"Cylinders\": 4, \"Displacement\": 96.0, \"Horsepower\": 69.0, \"Weight_in_lbs\": 2189, \"Acceleration\": 18.0, \"Year\": \"1972-01-01T00:00:00\", \"Origin\": \"Europe\"}, {\"Name\": \"ford pinto (sw)\", \"Miles_per_Gallon\": 22.0, \"Cylinders\": 4, \"Displacement\": 122.0, \"Horsepower\": 86.0, \"Weight_in_lbs\": 2395, \"Acceleration\": 16.0, \"Year\": \"1972-01-01T00:00:00\", \"Origin\": \"USA\"}, {\"Name\": \"datsun 510 (sw)\", \"Miles_per_Gallon\": 28.0, \"Cylinders\": 4, \"Displacement\": 97.0, \"Horsepower\": 92.0, \"Weight_in_lbs\": 2288, \"Acceleration\": 17.0, \"Year\": \"1972-01-01T00:00:00\", \"Origin\": \"Japan\"}, {\"Name\": \"toyouta corona mark ii (sw)\", \"Miles_per_Gallon\": 23.0, \"Cylinders\": 4, \"Displacement\": 120.0, \"Horsepower\": 97.0, \"Weight_in_lbs\": 2506, \"Acceleration\": 14.5, \"Year\": \"1972-01-01T00:00:00\", \"Origin\": \"Japan\"}, {\"Name\": \"dodge colt (sw)\", \"Miles_per_Gallon\": 28.0, \"Cylinders\": 4, \"Displacement\": 98.0, \"Horsepower\": 80.0, \"Weight_in_lbs\": 2164, \"Acceleration\": 15.0, \"Year\": \"1972-01-01T00:00:00\", \"Origin\": \"USA\"}, {\"Name\": \"toyota corolla 1600 (sw)\", \"Miles_per_Gallon\": 27.0, \"Cylinders\": 4, \"Displacement\": 97.0, \"Horsepower\": 88.0, \"Weight_in_lbs\": 2100, \"Acceleration\": 16.5, \"Year\": \"1972-01-01T00:00:00\", \"Origin\": \"Japan\"}, {\"Name\": \"buick century 350\", \"Miles_per_Gallon\": 13.0, \"Cylinders\": 8, \"Displacement\": 350.0, \"Horsepower\": 175.0, \"Weight_in_lbs\": 4100, \"Acceleration\": 13.0, \"Year\": \"1973-01-01T00:00:00\", \"Origin\": \"USA\"}, {\"Name\": \"amc matador\", \"Miles_per_Gallon\": 14.0, \"Cylinders\": 8, \"Displacement\": 304.0, \"Horsepower\": 150.0, \"Weight_in_lbs\": 3672, \"Acceleration\": 11.5, \"Year\": \"1973-01-01T00:00:00\", \"Origin\": \"USA\"}, {\"Name\": \"chevrolet malibu\", \"Miles_per_Gallon\": 13.0, \"Cylinders\": 8, \"Displacement\": 350.0, \"Horsepower\": 145.0, \"Weight_in_lbs\": 3988, \"Acceleration\": 13.0, \"Year\": \"1973-01-01T00:00:00\", \"Origin\": \"USA\"}, {\"Name\": \"ford gran torino\", \"Miles_per_Gallon\": 14.0, \"Cylinders\": 8, \"Displacement\": 302.0, \"Horsepower\": 137.0, \"Weight_in_lbs\": 4042, \"Acceleration\": 14.5, \"Year\": \"1973-01-01T00:00:00\", \"Origin\": \"USA\"}, {\"Name\": \"dodge coronet custom\", \"Miles_per_Gallon\": 15.0, \"Cylinders\": 8, \"Displacement\": 318.0, \"Horsepower\": 150.0, \"Weight_in_lbs\": 3777, \"Acceleration\": 12.5, \"Year\": \"1973-01-01T00:00:00\", \"Origin\": \"USA\"}, {\"Name\": \"mercury marquis brougham\", \"Miles_per_Gallon\": 12.0, \"Cylinders\": 8, \"Displacement\": 429.0, \"Horsepower\": 198.0, \"Weight_in_lbs\": 4952, \"Acceleration\": 11.5, \"Year\": \"1973-01-01T00:00:00\", \"Origin\": \"USA\"}, {\"Name\": \"chevrolet caprice classic\", \"Miles_per_Gallon\": 13.0, \"Cylinders\": 8, \"Displacement\": 400.0, \"Horsepower\": 150.0, \"Weight_in_lbs\": 4464, \"Acceleration\": 12.0, \"Year\": \"1973-01-01T00:00:00\", \"Origin\": \"USA\"}, {\"Name\": \"ford ltd\", \"Miles_per_Gallon\": 13.0, \"Cylinders\": 8, \"Displacement\": 351.0, \"Horsepower\": 158.0, \"Weight_in_lbs\": 4363, \"Acceleration\": 13.0, \"Year\": \"1973-01-01T00:00:00\", \"Origin\": \"USA\"}, {\"Name\": \"plymouth fury gran sedan\", \"Miles_per_Gallon\": 14.0, \"Cylinders\": 8, \"Displacement\": 318.0, \"Horsepower\": 150.0, \"Weight_in_lbs\": 4237, \"Acceleration\": 14.5, \"Year\": \"1973-01-01T00:00:00\", \"Origin\": \"USA\"}, {\"Name\": \"chrysler new yorker brougham\", \"Miles_per_Gallon\": 13.0, \"Cylinders\": 8, \"Displacement\": 440.0, \"Horsepower\": 215.0, \"Weight_in_lbs\": 4735, \"Acceleration\": 11.0, \"Year\": \"1973-01-01T00:00:00\", \"Origin\": \"USA\"}, {\"Name\": \"buick electra 225 custom\", \"Miles_per_Gallon\": 12.0, \"Cylinders\": 8, \"Displacement\": 455.0, \"Horsepower\": 225.0, \"Weight_in_lbs\": 4951, \"Acceleration\": 11.0, \"Year\": \"1973-01-01T00:00:00\", \"Origin\": \"USA\"}, {\"Name\": \"amc ambassador brougham\", \"Miles_per_Gallon\": 13.0, \"Cylinders\": 8, \"Displacement\": 360.0, \"Horsepower\": 175.0, \"Weight_in_lbs\": 3821, \"Acceleration\": 11.0, \"Year\": \"1973-01-01T00:00:00\", \"Origin\": \"USA\"}, {\"Name\": \"plymouth valiant\", \"Miles_per_Gallon\": 18.0, \"Cylinders\": 6, \"Displacement\": 225.0, \"Horsepower\": 105.0, \"Weight_in_lbs\": 3121, \"Acceleration\": 16.5, \"Year\": \"1973-01-01T00:00:00\", \"Origin\": \"USA\"}, {\"Name\": \"chevrolet nova custom\", \"Miles_per_Gallon\": 16.0, \"Cylinders\": 6, \"Displacement\": 250.0, \"Horsepower\": 100.0, \"Weight_in_lbs\": 3278, \"Acceleration\": 18.0, \"Year\": \"1973-01-01T00:00:00\", \"Origin\": \"USA\"}, {\"Name\": \"amc hornet\", \"Miles_per_Gallon\": 18.0, \"Cylinders\": 6, \"Displacement\": 232.0, \"Horsepower\": 100.0, \"Weight_in_lbs\": 2945, \"Acceleration\": 16.0, \"Year\": \"1973-01-01T00:00:00\", \"Origin\": \"USA\"}, {\"Name\": \"ford maverick\", \"Miles_per_Gallon\": 18.0, \"Cylinders\": 6, \"Displacement\": 250.0, \"Horsepower\": 88.0, \"Weight_in_lbs\": 3021, \"Acceleration\": 16.5, \"Year\": \"1973-01-01T00:00:00\", \"Origin\": \"USA\"}, {\"Name\": \"plymouth duster\", \"Miles_per_Gallon\": 23.0, \"Cylinders\": 6, \"Displacement\": 198.0, \"Horsepower\": 95.0, \"Weight_in_lbs\": 2904, \"Acceleration\": 16.0, \"Year\": \"1973-01-01T00:00:00\", \"Origin\": \"USA\"}, {\"Name\": \"volkswagen super beetle\", \"Miles_per_Gallon\": 26.0, \"Cylinders\": 4, \"Displacement\": 97.0, \"Horsepower\": 46.0, \"Weight_in_lbs\": 1950, \"Acceleration\": 21.0, \"Year\": \"1973-01-01T00:00:00\", \"Origin\": \"Europe\"}, {\"Name\": \"chevrolet impala\", \"Miles_per_Gallon\": 11.0, \"Cylinders\": 8, \"Displacement\": 400.0, \"Horsepower\": 150.0, \"Weight_in_lbs\": 4997, \"Acceleration\": 14.0, \"Year\": \"1973-01-01T00:00:00\", \"Origin\": \"USA\"}, {\"Name\": \"ford country\", \"Miles_per_Gallon\": 12.0, \"Cylinders\": 8, \"Displacement\": 400.0, \"Horsepower\": 167.0, \"Weight_in_lbs\": 4906, \"Acceleration\": 12.5, \"Year\": \"1973-01-01T00:00:00\", \"Origin\": \"USA\"}, {\"Name\": \"plymouth custom suburb\", \"Miles_per_Gallon\": 13.0, \"Cylinders\": 8, \"Displacement\": 360.0, \"Horsepower\": 170.0, \"Weight_in_lbs\": 4654, \"Acceleration\": 13.0, \"Year\": \"1973-01-01T00:00:00\", \"Origin\": \"USA\"}, {\"Name\": \"oldsmobile vista cruiser\", \"Miles_per_Gallon\": 12.0, \"Cylinders\": 8, \"Displacement\": 350.0, \"Horsepower\": 180.0, \"Weight_in_lbs\": 4499, \"Acceleration\": 12.5, \"Year\": \"1973-01-01T00:00:00\", \"Origin\": \"USA\"}, {\"Name\": \"amc gremlin\", \"Miles_per_Gallon\": 18.0, \"Cylinders\": 6, \"Displacement\": 232.0, \"Horsepower\": 100.0, \"Weight_in_lbs\": 2789, \"Acceleration\": 15.0, \"Year\": \"1973-01-01T00:00:00\", \"Origin\": \"USA\"}, {\"Name\": \"toyota carina\", \"Miles_per_Gallon\": 20.0, \"Cylinders\": 4, \"Displacement\": 97.0, \"Horsepower\": 88.0, \"Weight_in_lbs\": 2279, \"Acceleration\": 19.0, \"Year\": \"1973-01-01T00:00:00\", \"Origin\": \"Japan\"}, {\"Name\": \"chevrolet vega\", \"Miles_per_Gallon\": 21.0, \"Cylinders\": 4, \"Displacement\": 140.0, \"Horsepower\": 72.0, \"Weight_in_lbs\": 2401, \"Acceleration\": 19.5, \"Year\": \"1973-01-01T00:00:00\", \"Origin\": \"USA\"}, {\"Name\": \"datsun 610\", \"Miles_per_Gallon\": 22.0, \"Cylinders\": 4, \"Displacement\": 108.0, \"Horsepower\": 94.0, \"Weight_in_lbs\": 2379, \"Acceleration\": 16.5, \"Year\": \"1973-01-01T00:00:00\", \"Origin\": \"Japan\"}, {\"Name\": \"maxda rx3\", \"Miles_per_Gallon\": 18.0, \"Cylinders\": 3, \"Displacement\": 70.0, \"Horsepower\": 90.0, \"Weight_in_lbs\": 2124, \"Acceleration\": 13.5, \"Year\": \"1973-01-01T00:00:00\", \"Origin\": \"Japan\"}, {\"Name\": \"ford pinto\", \"Miles_per_Gallon\": 19.0, \"Cylinders\": 4, \"Displacement\": 122.0, \"Horsepower\": 85.0, \"Weight_in_lbs\": 2310, \"Acceleration\": 18.5, \"Year\": \"1973-01-01T00:00:00\", \"Origin\": \"USA\"}, {\"Name\": \"mercury capri v6\", \"Miles_per_Gallon\": 21.0, \"Cylinders\": 6, \"Displacement\": 155.0, \"Horsepower\": 107.0, \"Weight_in_lbs\": 2472, \"Acceleration\": 14.0, \"Year\": \"1973-01-01T00:00:00\", \"Origin\": \"USA\"}, {\"Name\": \"fiat 124 sport coupe\", \"Miles_per_Gallon\": 26.0, \"Cylinders\": 4, \"Displacement\": 98.0, \"Horsepower\": 90.0, \"Weight_in_lbs\": 2265, \"Acceleration\": 15.5, \"Year\": \"1973-01-01T00:00:00\", \"Origin\": \"Europe\"}, {\"Name\": \"chevrolet monte carlo s\", \"Miles_per_Gallon\": 15.0, \"Cylinders\": 8, \"Displacement\": 350.0, \"Horsepower\": 145.0, \"Weight_in_lbs\": 4082, \"Acceleration\": 13.0, \"Year\": \"1973-01-01T00:00:00\", \"Origin\": \"USA\"}, {\"Name\": \"pontiac grand prix\", \"Miles_per_Gallon\": 16.0, \"Cylinders\": 8, \"Displacement\": 400.0, \"Horsepower\": 230.0, \"Weight_in_lbs\": 4278, \"Acceleration\": 9.5, \"Year\": \"1973-01-01T00:00:00\", \"Origin\": \"USA\"}, {\"Name\": \"fiat 128\", \"Miles_per_Gallon\": 29.0, \"Cylinders\": 4, \"Displacement\": 68.0, \"Horsepower\": 49.0, \"Weight_in_lbs\": 1867, \"Acceleration\": 19.5, \"Year\": \"1973-01-01T00:00:00\", \"Origin\": \"Europe\"}, {\"Name\": \"opel manta\", \"Miles_per_Gallon\": 24.0, \"Cylinders\": 4, \"Displacement\": 116.0, \"Horsepower\": 75.0, \"Weight_in_lbs\": 2158, \"Acceleration\": 15.5, \"Year\": \"1973-01-01T00:00:00\", \"Origin\": \"Europe\"}, {\"Name\": \"audi 100ls\", \"Miles_per_Gallon\": 20.0, \"Cylinders\": 4, \"Displacement\": 114.0, \"Horsepower\": 91.0, \"Weight_in_lbs\": 2582, \"Acceleration\": 14.0, \"Year\": \"1973-01-01T00:00:00\", \"Origin\": \"Europe\"}, {\"Name\": \"volvo 144ea\", \"Miles_per_Gallon\": 19.0, \"Cylinders\": 4, \"Displacement\": 121.0, \"Horsepower\": 112.0, \"Weight_in_lbs\": 2868, \"Acceleration\": 15.5, \"Year\": \"1973-01-01T00:00:00\", \"Origin\": \"Europe\"}, {\"Name\": \"dodge dart custom\", \"Miles_per_Gallon\": 15.0, \"Cylinders\": 8, \"Displacement\": 318.0, \"Horsepower\": 150.0, \"Weight_in_lbs\": 3399, \"Acceleration\": 11.0, \"Year\": \"1973-01-01T00:00:00\", \"Origin\": \"USA\"}, {\"Name\": \"saab 99le\", \"Miles_per_Gallon\": 24.0, \"Cylinders\": 4, \"Displacement\": 121.0, \"Horsepower\": 110.0, \"Weight_in_lbs\": 2660, \"Acceleration\": 14.0, \"Year\": \"1973-01-01T00:00:00\", \"Origin\": \"Europe\"}, {\"Name\": \"toyota mark ii\", \"Miles_per_Gallon\": 20.0, \"Cylinders\": 6, \"Displacement\": 156.0, \"Horsepower\": 122.0, \"Weight_in_lbs\": 2807, \"Acceleration\": 13.5, \"Year\": \"1973-01-01T00:00:00\", \"Origin\": \"Japan\"}, {\"Name\": \"oldsmobile omega\", \"Miles_per_Gallon\": 11.0, \"Cylinders\": 8, \"Displacement\": 350.0, \"Horsepower\": 180.0, \"Weight_in_lbs\": 3664, \"Acceleration\": 11.0, \"Year\": \"1973-01-01T00:00:00\", \"Origin\": \"USA\"}, {\"Name\": \"plymouth duster\", \"Miles_per_Gallon\": 20.0, \"Cylinders\": 6, \"Displacement\": 198.0, \"Horsepower\": 95.0, \"Weight_in_lbs\": 3102, \"Acceleration\": 16.5, \"Year\": \"1974-01-01T00:00:00\", \"Origin\": \"USA\"}, {\"Name\": \"ford maverick\", \"Miles_per_Gallon\": 21.0, \"Cylinders\": 6, \"Displacement\": 200.0, \"Horsepower\": null, \"Weight_in_lbs\": 2875, \"Acceleration\": 17.0, \"Year\": \"1974-01-01T00:00:00\", \"Origin\": \"USA\"}, {\"Name\": \"amc hornet\", \"Miles_per_Gallon\": 19.0, \"Cylinders\": 6, \"Displacement\": 232.0, \"Horsepower\": 100.0, \"Weight_in_lbs\": 2901, \"Acceleration\": 16.0, \"Year\": \"1974-01-01T00:00:00\", \"Origin\": \"USA\"}, {\"Name\": \"chevrolet nova\", \"Miles_per_Gallon\": 15.0, \"Cylinders\": 6, \"Displacement\": 250.0, \"Horsepower\": 100.0, \"Weight_in_lbs\": 3336, \"Acceleration\": 17.0, \"Year\": \"1974-01-01T00:00:00\", \"Origin\": \"USA\"}, {\"Name\": \"datsun b210\", \"Miles_per_Gallon\": 31.0, \"Cylinders\": 4, \"Displacement\": 79.0, \"Horsepower\": 67.0, \"Weight_in_lbs\": 1950, \"Acceleration\": 19.0, \"Year\": \"1974-01-01T00:00:00\", \"Origin\": \"Japan\"}, {\"Name\": \"ford pinto\", \"Miles_per_Gallon\": 26.0, \"Cylinders\": 4, \"Displacement\": 122.0, \"Horsepower\": 80.0, \"Weight_in_lbs\": 2451, \"Acceleration\": 16.5, \"Year\": \"1974-01-01T00:00:00\", \"Origin\": \"USA\"}, {\"Name\": \"toyota corolla 1200\", \"Miles_per_Gallon\": 32.0, \"Cylinders\": 4, \"Displacement\": 71.0, \"Horsepower\": 65.0, \"Weight_in_lbs\": 1836, \"Acceleration\": 21.0, \"Year\": \"1974-01-01T00:00:00\", \"Origin\": \"Japan\"}, {\"Name\": \"chevrolet vega\", \"Miles_per_Gallon\": 25.0, \"Cylinders\": 4, \"Displacement\": 140.0, \"Horsepower\": 75.0, \"Weight_in_lbs\": 2542, \"Acceleration\": 17.0, \"Year\": \"1974-01-01T00:00:00\", \"Origin\": \"USA\"}, {\"Name\": \"chevrolet chevelle malibu classic\", \"Miles_per_Gallon\": 16.0, \"Cylinders\": 6, \"Displacement\": 250.0, \"Horsepower\": 100.0, \"Weight_in_lbs\": 3781, \"Acceleration\": 17.0, \"Year\": \"1974-01-01T00:00:00\", \"Origin\": \"USA\"}, {\"Name\": \"amc matador\", \"Miles_per_Gallon\": 16.0, \"Cylinders\": 6, \"Displacement\": 258.0, \"Horsepower\": 110.0, \"Weight_in_lbs\": 3632, \"Acceleration\": 18.0, \"Year\": \"1974-01-01T00:00:00\", \"Origin\": \"USA\"}, {\"Name\": \"plymouth satellite sebring\", \"Miles_per_Gallon\": 18.0, \"Cylinders\": 6, \"Displacement\": 225.0, \"Horsepower\": 105.0, \"Weight_in_lbs\": 3613, \"Acceleration\": 16.5, \"Year\": \"1974-01-01T00:00:00\", \"Origin\": \"USA\"}, {\"Name\": \"ford gran torino\", \"Miles_per_Gallon\": 16.0, \"Cylinders\": 8, \"Displacement\": 302.0, \"Horsepower\": 140.0, \"Weight_in_lbs\": 4141, \"Acceleration\": 14.0, \"Year\": \"1974-01-01T00:00:00\", \"Origin\": \"USA\"}, {\"Name\": \"buick century luxus (sw)\", \"Miles_per_Gallon\": 13.0, \"Cylinders\": 8, \"Displacement\": 350.0, \"Horsepower\": 150.0, \"Weight_in_lbs\": 4699, \"Acceleration\": 14.5, \"Year\": \"1974-01-01T00:00:00\", \"Origin\": \"USA\"}, {\"Name\": \"dodge coronet custom (sw)\", \"Miles_per_Gallon\": 14.0, \"Cylinders\": 8, \"Displacement\": 318.0, \"Horsepower\": 150.0, \"Weight_in_lbs\": 4457, \"Acceleration\": 13.5, \"Year\": \"1974-01-01T00:00:00\", \"Origin\": \"USA\"}, {\"Name\": \"ford gran torino (sw)\", \"Miles_per_Gallon\": 14.0, \"Cylinders\": 8, \"Displacement\": 302.0, \"Horsepower\": 140.0, \"Weight_in_lbs\": 4638, \"Acceleration\": 16.0, \"Year\": \"1974-01-01T00:00:00\", \"Origin\": \"USA\"}, {\"Name\": \"amc matador (sw)\", \"Miles_per_Gallon\": 14.0, \"Cylinders\": 8, \"Displacement\": 304.0, \"Horsepower\": 150.0, \"Weight_in_lbs\": 4257, \"Acceleration\": 15.5, \"Year\": \"1974-01-01T00:00:00\", \"Origin\": \"USA\"}, {\"Name\": \"audi fox\", \"Miles_per_Gallon\": 29.0, \"Cylinders\": 4, \"Displacement\": 98.0, \"Horsepower\": 83.0, \"Weight_in_lbs\": 2219, \"Acceleration\": 16.5, \"Year\": \"1974-01-01T00:00:00\", \"Origin\": \"Europe\"}, {\"Name\": \"volkswagen dasher\", \"Miles_per_Gallon\": 26.0, \"Cylinders\": 4, \"Displacement\": 79.0, \"Horsepower\": 67.0, \"Weight_in_lbs\": 1963, \"Acceleration\": 15.5, \"Year\": \"1974-01-01T00:00:00\", \"Origin\": \"Europe\"}, {\"Name\": \"opel manta\", \"Miles_per_Gallon\": 26.0, \"Cylinders\": 4, \"Displacement\": 97.0, \"Horsepower\": 78.0, \"Weight_in_lbs\": 2300, \"Acceleration\": 14.5, \"Year\": \"1974-01-01T00:00:00\", \"Origin\": \"Europe\"}, {\"Name\": \"toyota corona\", \"Miles_per_Gallon\": 31.0, \"Cylinders\": 4, \"Displacement\": 76.0, \"Horsepower\": 52.0, \"Weight_in_lbs\": 1649, \"Acceleration\": 16.5, \"Year\": \"1974-01-01T00:00:00\", \"Origin\": \"Japan\"}, {\"Name\": \"datsun 710\", \"Miles_per_Gallon\": 32.0, \"Cylinders\": 4, \"Displacement\": 83.0, \"Horsepower\": 61.0, \"Weight_in_lbs\": 2003, \"Acceleration\": 19.0, \"Year\": \"1974-01-01T00:00:00\", \"Origin\": \"Japan\"}, {\"Name\": \"dodge colt\", \"Miles_per_Gallon\": 28.0, \"Cylinders\": 4, \"Displacement\": 90.0, \"Horsepower\": 75.0, \"Weight_in_lbs\": 2125, \"Acceleration\": 14.5, \"Year\": \"1974-01-01T00:00:00\", \"Origin\": \"USA\"}, {\"Name\": \"fiat 128\", \"Miles_per_Gallon\": 24.0, \"Cylinders\": 4, \"Displacement\": 90.0, \"Horsepower\": 75.0, \"Weight_in_lbs\": 2108, \"Acceleration\": 15.5, \"Year\": \"1974-01-01T00:00:00\", \"Origin\": \"Europe\"}, {\"Name\": \"fiat 124 tc\", \"Miles_per_Gallon\": 26.0, \"Cylinders\": 4, \"Displacement\": 116.0, \"Horsepower\": 75.0, \"Weight_in_lbs\": 2246, \"Acceleration\": 14.0, \"Year\": \"1974-01-01T00:00:00\", \"Origin\": \"Europe\"}, {\"Name\": \"honda civic\", \"Miles_per_Gallon\": 24.0, \"Cylinders\": 4, \"Displacement\": 120.0, \"Horsepower\": 97.0, \"Weight_in_lbs\": 2489, \"Acceleration\": 15.0, \"Year\": \"1974-01-01T00:00:00\", \"Origin\": \"Japan\"}, {\"Name\": \"subaru\", \"Miles_per_Gallon\": 26.0, \"Cylinders\": 4, \"Displacement\": 108.0, \"Horsepower\": 93.0, \"Weight_in_lbs\": 2391, \"Acceleration\": 15.5, \"Year\": \"1974-01-01T00:00:00\", \"Origin\": \"Japan\"}, {\"Name\": \"fiat x1.9\", \"Miles_per_Gallon\": 31.0, \"Cylinders\": 4, \"Displacement\": 79.0, \"Horsepower\": 67.0, \"Weight_in_lbs\": 2000, \"Acceleration\": 16.0, \"Year\": \"1974-01-01T00:00:00\", \"Origin\": \"Europe\"}, {\"Name\": \"plymouth valiant custom\", \"Miles_per_Gallon\": 19.0, \"Cylinders\": 6, \"Displacement\": 225.0, \"Horsepower\": 95.0, \"Weight_in_lbs\": 3264, \"Acceleration\": 16.0, \"Year\": \"1975-01-01T00:00:00\", \"Origin\": \"USA\"}, {\"Name\": \"chevrolet nova\", \"Miles_per_Gallon\": 18.0, \"Cylinders\": 6, \"Displacement\": 250.0, \"Horsepower\": 105.0, \"Weight_in_lbs\": 3459, \"Acceleration\": 16.0, \"Year\": \"1975-01-01T00:00:00\", \"Origin\": \"USA\"}, {\"Name\": \"mercury monarch\", \"Miles_per_Gallon\": 15.0, \"Cylinders\": 6, \"Displacement\": 250.0, \"Horsepower\": 72.0, \"Weight_in_lbs\": 3432, \"Acceleration\": 21.0, \"Year\": \"1975-01-01T00:00:00\", \"Origin\": \"USA\"}, {\"Name\": \"ford maverick\", \"Miles_per_Gallon\": 15.0, \"Cylinders\": 6, \"Displacement\": 250.0, \"Horsepower\": 72.0, \"Weight_in_lbs\": 3158, \"Acceleration\": 19.5, \"Year\": \"1975-01-01T00:00:00\", \"Origin\": \"USA\"}, {\"Name\": \"pontiac catalina\", \"Miles_per_Gallon\": 16.0, \"Cylinders\": 8, \"Displacement\": 400.0, \"Horsepower\": 170.0, \"Weight_in_lbs\": 4668, \"Acceleration\": 11.5, \"Year\": \"1975-01-01T00:00:00\", \"Origin\": \"USA\"}, {\"Name\": \"chevrolet bel air\", \"Miles_per_Gallon\": 15.0, \"Cylinders\": 8, \"Displacement\": 350.0, \"Horsepower\": 145.0, \"Weight_in_lbs\": 4440, \"Acceleration\": 14.0, \"Year\": \"1975-01-01T00:00:00\", \"Origin\": \"USA\"}, {\"Name\": \"plymouth grand fury\", \"Miles_per_Gallon\": 16.0, \"Cylinders\": 8, \"Displacement\": 318.0, \"Horsepower\": 150.0, \"Weight_in_lbs\": 4498, \"Acceleration\": 14.5, \"Year\": \"1975-01-01T00:00:00\", \"Origin\": \"USA\"}, {\"Name\": \"ford ltd\", \"Miles_per_Gallon\": 14.0, \"Cylinders\": 8, \"Displacement\": 351.0, \"Horsepower\": 148.0, \"Weight_in_lbs\": 4657, \"Acceleration\": 13.5, \"Year\": \"1975-01-01T00:00:00\", \"Origin\": \"USA\"}, {\"Name\": \"buick century\", \"Miles_per_Gallon\": 17.0, \"Cylinders\": 6, \"Displacement\": 231.0, \"Horsepower\": 110.0, \"Weight_in_lbs\": 3907, \"Acceleration\": 21.0, \"Year\": \"1975-01-01T00:00:00\", \"Origin\": \"USA\"}, {\"Name\": \"chevroelt chevelle malibu\", \"Miles_per_Gallon\": 16.0, \"Cylinders\": 6, \"Displacement\": 250.0, \"Horsepower\": 105.0, \"Weight_in_lbs\": 3897, \"Acceleration\": 18.5, \"Year\": \"1975-01-01T00:00:00\", \"Origin\": \"USA\"}, {\"Name\": \"amc matador\", \"Miles_per_Gallon\": 15.0, \"Cylinders\": 6, \"Displacement\": 258.0, \"Horsepower\": 110.0, \"Weight_in_lbs\": 3730, \"Acceleration\": 19.0, \"Year\": \"1975-01-01T00:00:00\", \"Origin\": \"USA\"}, {\"Name\": \"plymouth fury\", \"Miles_per_Gallon\": 18.0, \"Cylinders\": 6, \"Displacement\": 225.0, \"Horsepower\": 95.0, \"Weight_in_lbs\": 3785, \"Acceleration\": 19.0, \"Year\": \"1975-01-01T00:00:00\", \"Origin\": \"USA\"}, {\"Name\": \"buick skyhawk\", \"Miles_per_Gallon\": 21.0, \"Cylinders\": 6, \"Displacement\": 231.0, \"Horsepower\": 110.0, \"Weight_in_lbs\": 3039, \"Acceleration\": 15.0, \"Year\": \"1975-01-01T00:00:00\", \"Origin\": \"USA\"}, {\"Name\": \"chevrolet monza 2+2\", \"Miles_per_Gallon\": 20.0, \"Cylinders\": 8, \"Displacement\": 262.0, \"Horsepower\": 110.0, \"Weight_in_lbs\": 3221, \"Acceleration\": 13.5, \"Year\": \"1975-01-01T00:00:00\", \"Origin\": \"USA\"}, {\"Name\": \"ford mustang ii\", \"Miles_per_Gallon\": 13.0, \"Cylinders\": 8, \"Displacement\": 302.0, \"Horsepower\": 129.0, \"Weight_in_lbs\": 3169, \"Acceleration\": 12.0, \"Year\": \"1975-01-01T00:00:00\", \"Origin\": \"USA\"}, {\"Name\": \"toyota corolla\", \"Miles_per_Gallon\": 29.0, \"Cylinders\": 4, \"Displacement\": 97.0, \"Horsepower\": 75.0, \"Weight_in_lbs\": 2171, \"Acceleration\": 16.0, \"Year\": \"1975-01-01T00:00:00\", \"Origin\": \"Japan\"}, {\"Name\": \"ford pinto\", \"Miles_per_Gallon\": 23.0, \"Cylinders\": 4, \"Displacement\": 140.0, \"Horsepower\": 83.0, \"Weight_in_lbs\": 2639, \"Acceleration\": 17.0, \"Year\": \"1975-01-01T00:00:00\", \"Origin\": \"USA\"}, {\"Name\": \"amc gremlin\", \"Miles_per_Gallon\": 20.0, \"Cylinders\": 6, \"Displacement\": 232.0, \"Horsepower\": 100.0, \"Weight_in_lbs\": 2914, \"Acceleration\": 16.0, \"Year\": \"1975-01-01T00:00:00\", \"Origin\": \"USA\"}, {\"Name\": \"pontiac astro\", \"Miles_per_Gallon\": 23.0, \"Cylinders\": 4, \"Displacement\": 140.0, \"Horsepower\": 78.0, \"Weight_in_lbs\": 2592, \"Acceleration\": 18.5, \"Year\": \"1975-01-01T00:00:00\", \"Origin\": \"USA\"}, {\"Name\": \"toyota corona\", \"Miles_per_Gallon\": 24.0, \"Cylinders\": 4, \"Displacement\": 134.0, \"Horsepower\": 96.0, \"Weight_in_lbs\": 2702, \"Acceleration\": 13.5, \"Year\": \"1975-01-01T00:00:00\", \"Origin\": \"Japan\"}, {\"Name\": \"volkswagen dasher\", \"Miles_per_Gallon\": 25.0, \"Cylinders\": 4, \"Displacement\": 90.0, \"Horsepower\": 71.0, \"Weight_in_lbs\": 2223, \"Acceleration\": 16.5, \"Year\": \"1975-01-01T00:00:00\", \"Origin\": \"Europe\"}, {\"Name\": \"datsun 710\", \"Miles_per_Gallon\": 24.0, \"Cylinders\": 4, \"Displacement\": 119.0, \"Horsepower\": 97.0, \"Weight_in_lbs\": 2545, \"Acceleration\": 17.0, \"Year\": \"1975-01-01T00:00:00\", \"Origin\": \"Japan\"}, {\"Name\": \"ford pinto\", \"Miles_per_Gallon\": 18.0, \"Cylinders\": 6, \"Displacement\": 171.0, \"Horsepower\": 97.0, \"Weight_in_lbs\": 2984, \"Acceleration\": 14.5, \"Year\": \"1975-01-01T00:00:00\", \"Origin\": \"USA\"}, {\"Name\": \"volkswagen rabbit\", \"Miles_per_Gallon\": 29.0, \"Cylinders\": 4, \"Displacement\": 90.0, \"Horsepower\": 70.0, \"Weight_in_lbs\": 1937, \"Acceleration\": 14.0, \"Year\": \"1975-01-01T00:00:00\", \"Origin\": \"Europe\"}, {\"Name\": \"amc pacer\", \"Miles_per_Gallon\": 19.0, \"Cylinders\": 6, \"Displacement\": 232.0, \"Horsepower\": 90.0, \"Weight_in_lbs\": 3211, \"Acceleration\": 17.0, \"Year\": \"1975-01-01T00:00:00\", \"Origin\": \"USA\"}, {\"Name\": \"audi 100ls\", \"Miles_per_Gallon\": 23.0, \"Cylinders\": 4, \"Displacement\": 115.0, \"Horsepower\": 95.0, \"Weight_in_lbs\": 2694, \"Acceleration\": 15.0, \"Year\": \"1975-01-01T00:00:00\", \"Origin\": \"Europe\"}, {\"Name\": \"peugeot 504\", \"Miles_per_Gallon\": 23.0, \"Cylinders\": 4, \"Displacement\": 120.0, \"Horsepower\": 88.0, \"Weight_in_lbs\": 2957, \"Acceleration\": 17.0, \"Year\": \"1975-01-01T00:00:00\", \"Origin\": \"Europe\"}, {\"Name\": \"volvo 244dl\", \"Miles_per_Gallon\": 22.0, \"Cylinders\": 4, \"Displacement\": 121.0, \"Horsepower\": 98.0, \"Weight_in_lbs\": 2945, \"Acceleration\": 14.5, \"Year\": \"1975-01-01T00:00:00\", \"Origin\": \"Europe\"}, {\"Name\": \"saab 99le\", \"Miles_per_Gallon\": 25.0, \"Cylinders\": 4, \"Displacement\": 121.0, \"Horsepower\": 115.0, \"Weight_in_lbs\": 2671, \"Acceleration\": 13.5, \"Year\": \"1975-01-01T00:00:00\", \"Origin\": \"Europe\"}, {\"Name\": \"honda civic cvcc\", \"Miles_per_Gallon\": 33.0, \"Cylinders\": 4, \"Displacement\": 91.0, \"Horsepower\": 53.0, \"Weight_in_lbs\": 1795, \"Acceleration\": 17.5, \"Year\": \"1975-01-01T00:00:00\", \"Origin\": \"Japan\"}, {\"Name\": \"fiat 131\", \"Miles_per_Gallon\": 28.0, \"Cylinders\": 4, \"Displacement\": 107.0, \"Horsepower\": 86.0, \"Weight_in_lbs\": 2464, \"Acceleration\": 15.5, \"Year\": \"1976-01-01T00:00:00\", \"Origin\": \"Europe\"}, {\"Name\": \"opel 1900\", \"Miles_per_Gallon\": 25.0, \"Cylinders\": 4, \"Displacement\": 116.0, \"Horsepower\": 81.0, \"Weight_in_lbs\": 2220, \"Acceleration\": 16.9, \"Year\": \"1976-01-01T00:00:00\", \"Origin\": \"Europe\"}, {\"Name\": \"capri ii\", \"Miles_per_Gallon\": 25.0, \"Cylinders\": 4, \"Displacement\": 140.0, \"Horsepower\": 92.0, \"Weight_in_lbs\": 2572, \"Acceleration\": 14.9, \"Year\": \"1976-01-01T00:00:00\", \"Origin\": \"USA\"}, {\"Name\": \"dodge colt\", \"Miles_per_Gallon\": 26.0, \"Cylinders\": 4, \"Displacement\": 98.0, \"Horsepower\": 79.0, \"Weight_in_lbs\": 2255, \"Acceleration\": 17.7, \"Year\": \"1976-01-01T00:00:00\", \"Origin\": \"USA\"}, {\"Name\": \"renault 12tl\", \"Miles_per_Gallon\": 27.0, \"Cylinders\": 4, \"Displacement\": 101.0, \"Horsepower\": 83.0, \"Weight_in_lbs\": 2202, \"Acceleration\": 15.3, \"Year\": \"1976-01-01T00:00:00\", \"Origin\": \"Europe\"}, {\"Name\": \"chevrolet chevelle malibu classic\", \"Miles_per_Gallon\": 17.5, \"Cylinders\": 8, \"Displacement\": 305.0, \"Horsepower\": 140.0, \"Weight_in_lbs\": 4215, \"Acceleration\": 13.0, \"Year\": \"1976-01-01T00:00:00\", \"Origin\": \"USA\"}, {\"Name\": \"dodge coronet brougham\", \"Miles_per_Gallon\": 16.0, \"Cylinders\": 8, \"Displacement\": 318.0, \"Horsepower\": 150.0, \"Weight_in_lbs\": 4190, \"Acceleration\": 13.0, \"Year\": \"1976-01-01T00:00:00\", \"Origin\": \"USA\"}, {\"Name\": \"amc matador\", \"Miles_per_Gallon\": 15.5, \"Cylinders\": 8, \"Displacement\": 304.0, \"Horsepower\": 120.0, \"Weight_in_lbs\": 3962, \"Acceleration\": 13.9, \"Year\": \"1976-01-01T00:00:00\", \"Origin\": \"USA\"}, {\"Name\": \"ford gran torino\", \"Miles_per_Gallon\": 14.5, \"Cylinders\": 8, \"Displacement\": 351.0, \"Horsepower\": 152.0, \"Weight_in_lbs\": 4215, \"Acceleration\": 12.8, \"Year\": \"1976-01-01T00:00:00\", \"Origin\": \"USA\"}, {\"Name\": \"plymouth valiant\", \"Miles_per_Gallon\": 22.0, \"Cylinders\": 6, \"Displacement\": 225.0, \"Horsepower\": 100.0, \"Weight_in_lbs\": 3233, \"Acceleration\": 15.4, \"Year\": \"1976-01-01T00:00:00\", \"Origin\": \"USA\"}, {\"Name\": \"chevrolet nova\", \"Miles_per_Gallon\": 22.0, \"Cylinders\": 6, \"Displacement\": 250.0, \"Horsepower\": 105.0, \"Weight_in_lbs\": 3353, \"Acceleration\": 14.5, \"Year\": \"1976-01-01T00:00:00\", \"Origin\": \"USA\"}, {\"Name\": \"ford maverick\", \"Miles_per_Gallon\": 24.0, \"Cylinders\": 6, \"Displacement\": 200.0, \"Horsepower\": 81.0, \"Weight_in_lbs\": 3012, \"Acceleration\": 17.6, \"Year\": \"1976-01-01T00:00:00\", \"Origin\": \"USA\"}, {\"Name\": \"amc hornet\", \"Miles_per_Gallon\": 22.5, \"Cylinders\": 6, \"Displacement\": 232.0, \"Horsepower\": 90.0, \"Weight_in_lbs\": 3085, \"Acceleration\": 17.6, \"Year\": \"1976-01-01T00:00:00\", \"Origin\": \"USA\"}, {\"Name\": \"chevrolet chevette\", \"Miles_per_Gallon\": 29.0, \"Cylinders\": 4, \"Displacement\": 85.0, \"Horsepower\": 52.0, \"Weight_in_lbs\": 2035, \"Acceleration\": 22.2, \"Year\": \"1976-01-01T00:00:00\", \"Origin\": \"USA\"}, {\"Name\": \"chevrolet woody\", \"Miles_per_Gallon\": 24.5, \"Cylinders\": 4, \"Displacement\": 98.0, \"Horsepower\": 60.0, \"Weight_in_lbs\": 2164, \"Acceleration\": 22.1, \"Year\": \"1976-01-01T00:00:00\", \"Origin\": \"USA\"}, {\"Name\": \"vw rabbit\", \"Miles_per_Gallon\": 29.0, \"Cylinders\": 4, \"Displacement\": 90.0, \"Horsepower\": 70.0, \"Weight_in_lbs\": 1937, \"Acceleration\": 14.2, \"Year\": \"1976-01-01T00:00:00\", \"Origin\": \"Europe\"}, {\"Name\": \"honda civic\", \"Miles_per_Gallon\": 33.0, \"Cylinders\": 4, \"Displacement\": 91.0, \"Horsepower\": 53.0, \"Weight_in_lbs\": 1795, \"Acceleration\": 17.4, \"Year\": \"1976-01-01T00:00:00\", \"Origin\": \"Japan\"}, {\"Name\": \"dodge aspen se\", \"Miles_per_Gallon\": 20.0, \"Cylinders\": 6, \"Displacement\": 225.0, \"Horsepower\": 100.0, \"Weight_in_lbs\": 3651, \"Acceleration\": 17.7, \"Year\": \"1976-01-01T00:00:00\", \"Origin\": \"USA\"}, {\"Name\": \"ford granada ghia\", \"Miles_per_Gallon\": 18.0, \"Cylinders\": 6, \"Displacement\": 250.0, \"Horsepower\": 78.0, \"Weight_in_lbs\": 3574, \"Acceleration\": 21.0, \"Year\": \"1976-01-01T00:00:00\", \"Origin\": \"USA\"}, {\"Name\": \"pontiac ventura sj\", \"Miles_per_Gallon\": 18.5, \"Cylinders\": 6, \"Displacement\": 250.0, \"Horsepower\": 110.0, \"Weight_in_lbs\": 3645, \"Acceleration\": 16.2, \"Year\": \"1976-01-01T00:00:00\", \"Origin\": \"USA\"}, {\"Name\": \"amc pacer d/l\", \"Miles_per_Gallon\": 17.5, \"Cylinders\": 6, \"Displacement\": 258.0, \"Horsepower\": 95.0, \"Weight_in_lbs\": 3193, \"Acceleration\": 17.8, \"Year\": \"1976-01-01T00:00:00\", \"Origin\": \"USA\"}, {\"Name\": \"volkswagen rabbit\", \"Miles_per_Gallon\": 29.5, \"Cylinders\": 4, \"Displacement\": 97.0, \"Horsepower\": 71.0, \"Weight_in_lbs\": 1825, \"Acceleration\": 12.2, \"Year\": \"1976-01-01T00:00:00\", \"Origin\": \"Europe\"}, {\"Name\": \"datsun b-210\", \"Miles_per_Gallon\": 32.0, \"Cylinders\": 4, \"Displacement\": 85.0, \"Horsepower\": 70.0, \"Weight_in_lbs\": 1990, \"Acceleration\": 17.0, \"Year\": \"1976-01-01T00:00:00\", \"Origin\": \"Japan\"}, {\"Name\": \"toyota corolla\", \"Miles_per_Gallon\": 28.0, \"Cylinders\": 4, \"Displacement\": 97.0, \"Horsepower\": 75.0, \"Weight_in_lbs\": 2155, \"Acceleration\": 16.4, \"Year\": \"1976-01-01T00:00:00\", \"Origin\": \"Japan\"}, {\"Name\": \"ford pinto\", \"Miles_per_Gallon\": 26.5, \"Cylinders\": 4, \"Displacement\": 140.0, \"Horsepower\": 72.0, \"Weight_in_lbs\": 2565, \"Acceleration\": 13.6, \"Year\": \"1976-01-01T00:00:00\", \"Origin\": \"USA\"}, {\"Name\": \"volvo 245\", \"Miles_per_Gallon\": 20.0, \"Cylinders\": 4, \"Displacement\": 130.0, \"Horsepower\": 102.0, \"Weight_in_lbs\": 3150, \"Acceleration\": 15.7, \"Year\": \"1976-01-01T00:00:00\", \"Origin\": \"Europe\"}, {\"Name\": \"plymouth volare premier v8\", \"Miles_per_Gallon\": 13.0, \"Cylinders\": 8, \"Displacement\": 318.0, \"Horsepower\": 150.0, \"Weight_in_lbs\": 3940, \"Acceleration\": 13.2, \"Year\": \"1976-01-01T00:00:00\", \"Origin\": \"USA\"}, {\"Name\": \"peugeot 504\", \"Miles_per_Gallon\": 19.0, \"Cylinders\": 4, \"Displacement\": 120.0, \"Horsepower\": 88.0, \"Weight_in_lbs\": 3270, \"Acceleration\": 21.9, \"Year\": \"1976-01-01T00:00:00\", \"Origin\": \"Europe\"}, {\"Name\": \"toyota mark ii\", \"Miles_per_Gallon\": 19.0, \"Cylinders\": 6, \"Displacement\": 156.0, \"Horsepower\": 108.0, \"Weight_in_lbs\": 2930, \"Acceleration\": 15.5, \"Year\": \"1976-01-01T00:00:00\", \"Origin\": \"Japan\"}, {\"Name\": \"mercedes-benz 280s\", \"Miles_per_Gallon\": 16.5, \"Cylinders\": 6, \"Displacement\": 168.0, \"Horsepower\": 120.0, \"Weight_in_lbs\": 3820, \"Acceleration\": 16.7, \"Year\": \"1976-01-01T00:00:00\", \"Origin\": \"Europe\"}, {\"Name\": \"cadillac seville\", \"Miles_per_Gallon\": 16.5, \"Cylinders\": 8, \"Displacement\": 350.0, \"Horsepower\": 180.0, \"Weight_in_lbs\": 4380, \"Acceleration\": 12.1, \"Year\": \"1976-01-01T00:00:00\", \"Origin\": \"USA\"}, {\"Name\": \"chevy c10\", \"Miles_per_Gallon\": 13.0, \"Cylinders\": 8, \"Displacement\": 350.0, \"Horsepower\": 145.0, \"Weight_in_lbs\": 4055, \"Acceleration\": 12.0, \"Year\": \"1976-01-01T00:00:00\", \"Origin\": \"USA\"}, {\"Name\": \"ford f108\", \"Miles_per_Gallon\": 13.0, \"Cylinders\": 8, \"Displacement\": 302.0, \"Horsepower\": 130.0, \"Weight_in_lbs\": 3870, \"Acceleration\": 15.0, \"Year\": \"1976-01-01T00:00:00\", \"Origin\": \"USA\"}, {\"Name\": \"dodge d100\", \"Miles_per_Gallon\": 13.0, \"Cylinders\": 8, \"Displacement\": 318.0, \"Horsepower\": 150.0, \"Weight_in_lbs\": 3755, \"Acceleration\": 14.0, \"Year\": \"1976-01-01T00:00:00\", \"Origin\": \"USA\"}, {\"Name\": \"honda Accelerationord cvcc\", \"Miles_per_Gallon\": 31.5, \"Cylinders\": 4, \"Displacement\": 98.0, \"Horsepower\": 68.0, \"Weight_in_lbs\": 2045, \"Acceleration\": 18.5, \"Year\": \"1977-01-01T00:00:00\", \"Origin\": \"Japan\"}, {\"Name\": \"buick opel isuzu deluxe\", \"Miles_per_Gallon\": 30.0, \"Cylinders\": 4, \"Displacement\": 111.0, \"Horsepower\": 80.0, \"Weight_in_lbs\": 2155, \"Acceleration\": 14.8, \"Year\": \"1977-01-01T00:00:00\", \"Origin\": \"USA\"}, {\"Name\": \"renault 5 gtl\", \"Miles_per_Gallon\": 36.0, \"Cylinders\": 4, \"Displacement\": 79.0, \"Horsepower\": 58.0, \"Weight_in_lbs\": 1825, \"Acceleration\": 18.6, \"Year\": \"1977-01-01T00:00:00\", \"Origin\": \"Europe\"}, {\"Name\": \"plymouth arrow gs\", \"Miles_per_Gallon\": 25.5, \"Cylinders\": 4, \"Displacement\": 122.0, \"Horsepower\": 96.0, \"Weight_in_lbs\": 2300, \"Acceleration\": 15.5, \"Year\": \"1977-01-01T00:00:00\", \"Origin\": \"USA\"}, {\"Name\": \"datsun f-10 hatchback\", \"Miles_per_Gallon\": 33.5, \"Cylinders\": 4, \"Displacement\": 85.0, \"Horsepower\": 70.0, \"Weight_in_lbs\": 1945, \"Acceleration\": 16.8, \"Year\": \"1977-01-01T00:00:00\", \"Origin\": \"Japan\"}, {\"Name\": \"chevrolet caprice classic\", \"Miles_per_Gallon\": 17.5, \"Cylinders\": 8, \"Displacement\": 305.0, \"Horsepower\": 145.0, \"Weight_in_lbs\": 3880, \"Acceleration\": 12.5, \"Year\": \"1977-01-01T00:00:00\", \"Origin\": \"USA\"}, {\"Name\": \"oldsmobile cutlass supreme\", \"Miles_per_Gallon\": 17.0, \"Cylinders\": 8, \"Displacement\": 260.0, \"Horsepower\": 110.0, \"Weight_in_lbs\": 4060, \"Acceleration\": 19.0, \"Year\": \"1977-01-01T00:00:00\", \"Origin\": \"USA\"}, {\"Name\": \"dodge monaco brougham\", \"Miles_per_Gallon\": 15.5, \"Cylinders\": 8, \"Displacement\": 318.0, \"Horsepower\": 145.0, \"Weight_in_lbs\": 4140, \"Acceleration\": 13.7, \"Year\": \"1977-01-01T00:00:00\", \"Origin\": \"USA\"}, {\"Name\": \"mercury cougar brougham\", \"Miles_per_Gallon\": 15.0, \"Cylinders\": 8, \"Displacement\": 302.0, \"Horsepower\": 130.0, \"Weight_in_lbs\": 4295, \"Acceleration\": 14.9, \"Year\": \"1977-01-01T00:00:00\", \"Origin\": \"USA\"}, {\"Name\": \"chevrolet concours\", \"Miles_per_Gallon\": 17.5, \"Cylinders\": 6, \"Displacement\": 250.0, \"Horsepower\": 110.0, \"Weight_in_lbs\": 3520, \"Acceleration\": 16.4, \"Year\": \"1977-01-01T00:00:00\", \"Origin\": \"USA\"}, {\"Name\": \"buick skylark\", \"Miles_per_Gallon\": 20.5, \"Cylinders\": 6, \"Displacement\": 231.0, \"Horsepower\": 105.0, \"Weight_in_lbs\": 3425, \"Acceleration\": 16.9, \"Year\": \"1977-01-01T00:00:00\", \"Origin\": \"USA\"}, {\"Name\": \"plymouth volare custom\", \"Miles_per_Gallon\": 19.0, \"Cylinders\": 6, \"Displacement\": 225.0, \"Horsepower\": 100.0, \"Weight_in_lbs\": 3630, \"Acceleration\": 17.7, \"Year\": \"1977-01-01T00:00:00\", \"Origin\": \"USA\"}, {\"Name\": \"ford granada\", \"Miles_per_Gallon\": 18.5, \"Cylinders\": 6, \"Displacement\": 250.0, \"Horsepower\": 98.0, \"Weight_in_lbs\": 3525, \"Acceleration\": 19.0, \"Year\": \"1977-01-01T00:00:00\", \"Origin\": \"USA\"}, {\"Name\": \"pontiac grand prix lj\", \"Miles_per_Gallon\": 16.0, \"Cylinders\": 8, \"Displacement\": 400.0, \"Horsepower\": 180.0, \"Weight_in_lbs\": 4220, \"Acceleration\": 11.1, \"Year\": \"1977-01-01T00:00:00\", \"Origin\": \"USA\"}, {\"Name\": \"chevrolet monte carlo landau\", \"Miles_per_Gallon\": 15.5, \"Cylinders\": 8, \"Displacement\": 350.0, \"Horsepower\": 170.0, \"Weight_in_lbs\": 4165, \"Acceleration\": 11.4, \"Year\": \"1977-01-01T00:00:00\", \"Origin\": \"USA\"}, {\"Name\": \"chrysler cordoba\", \"Miles_per_Gallon\": 15.5, \"Cylinders\": 8, \"Displacement\": 400.0, \"Horsepower\": 190.0, \"Weight_in_lbs\": 4325, \"Acceleration\": 12.2, \"Year\": \"1977-01-01T00:00:00\", \"Origin\": \"USA\"}, {\"Name\": \"ford thunderbird\", \"Miles_per_Gallon\": 16.0, \"Cylinders\": 8, \"Displacement\": 351.0, \"Horsepower\": 149.0, \"Weight_in_lbs\": 4335, \"Acceleration\": 14.5, \"Year\": \"1977-01-01T00:00:00\", \"Origin\": \"USA\"}, {\"Name\": \"volkswagen rabbit custom\", \"Miles_per_Gallon\": 29.0, \"Cylinders\": 4, \"Displacement\": 97.0, \"Horsepower\": 78.0, \"Weight_in_lbs\": 1940, \"Acceleration\": 14.5, \"Year\": \"1977-01-01T00:00:00\", \"Origin\": \"Europe\"}, {\"Name\": \"pontiac sunbird coupe\", \"Miles_per_Gallon\": 24.5, \"Cylinders\": 4, \"Displacement\": 151.0, \"Horsepower\": 88.0, \"Weight_in_lbs\": 2740, \"Acceleration\": 16.0, \"Year\": \"1977-01-01T00:00:00\", \"Origin\": \"USA\"}, {\"Name\": \"toyota corolla liftback\", \"Miles_per_Gallon\": 26.0, \"Cylinders\": 4, \"Displacement\": 97.0, \"Horsepower\": 75.0, \"Weight_in_lbs\": 2265, \"Acceleration\": 18.2, \"Year\": \"1977-01-01T00:00:00\", \"Origin\": \"Japan\"}, {\"Name\": \"ford mustang ii 2+2\", \"Miles_per_Gallon\": 25.5, \"Cylinders\": 4, \"Displacement\": 140.0, \"Horsepower\": 89.0, \"Weight_in_lbs\": 2755, \"Acceleration\": 15.8, \"Year\": \"1977-01-01T00:00:00\", \"Origin\": \"USA\"}, {\"Name\": \"chevrolet chevette\", \"Miles_per_Gallon\": 30.5, \"Cylinders\": 4, \"Displacement\": 98.0, \"Horsepower\": 63.0, \"Weight_in_lbs\": 2051, \"Acceleration\": 17.0, \"Year\": \"1977-01-01T00:00:00\", \"Origin\": \"USA\"}, {\"Name\": \"dodge colt m/m\", \"Miles_per_Gallon\": 33.5, \"Cylinders\": 4, \"Displacement\": 98.0, \"Horsepower\": 83.0, \"Weight_in_lbs\": 2075, \"Acceleration\": 15.9, \"Year\": \"1977-01-01T00:00:00\", \"Origin\": \"USA\"}, {\"Name\": \"subaru dl\", \"Miles_per_Gallon\": 30.0, \"Cylinders\": 4, \"Displacement\": 97.0, \"Horsepower\": 67.0, \"Weight_in_lbs\": 1985, \"Acceleration\": 16.4, \"Year\": \"1977-01-01T00:00:00\", \"Origin\": \"Japan\"}, {\"Name\": \"volkswagen dasher\", \"Miles_per_Gallon\": 30.5, \"Cylinders\": 4, \"Displacement\": 97.0, \"Horsepower\": 78.0, \"Weight_in_lbs\": 2190, \"Acceleration\": 14.1, \"Year\": \"1977-01-01T00:00:00\", \"Origin\": \"Europe\"}, {\"Name\": \"datsun 810\", \"Miles_per_Gallon\": 22.0, \"Cylinders\": 6, \"Displacement\": 146.0, \"Horsepower\": 97.0, \"Weight_in_lbs\": 2815, \"Acceleration\": 14.5, \"Year\": \"1977-01-01T00:00:00\", \"Origin\": \"Japan\"}, {\"Name\": \"bmw 320i\", \"Miles_per_Gallon\": 21.5, \"Cylinders\": 4, \"Displacement\": 121.0, \"Horsepower\": 110.0, \"Weight_in_lbs\": 2600, \"Acceleration\": 12.8, \"Year\": \"1977-01-01T00:00:00\", \"Origin\": \"Europe\"}, {\"Name\": \"mazda rx-4\", \"Miles_per_Gallon\": 21.5, \"Cylinders\": 3, \"Displacement\": 80.0, \"Horsepower\": 110.0, \"Weight_in_lbs\": 2720, \"Acceleration\": 13.5, \"Year\": \"1977-01-01T00:00:00\", \"Origin\": \"Japan\"}, {\"Name\": \"volkswagen rabbit custom diesel\", \"Miles_per_Gallon\": 43.1, \"Cylinders\": 4, \"Displacement\": 90.0, \"Horsepower\": 48.0, \"Weight_in_lbs\": 1985, \"Acceleration\": 21.5, \"Year\": \"1978-01-01T00:00:00\", \"Origin\": \"Europe\"}, {\"Name\": \"ford fiesta\", \"Miles_per_Gallon\": 36.1, \"Cylinders\": 4, \"Displacement\": 98.0, \"Horsepower\": 66.0, \"Weight_in_lbs\": 1800, \"Acceleration\": 14.4, \"Year\": \"1978-01-01T00:00:00\", \"Origin\": \"USA\"}, {\"Name\": \"mazda glc deluxe\", \"Miles_per_Gallon\": 32.8, \"Cylinders\": 4, \"Displacement\": 78.0, \"Horsepower\": 52.0, \"Weight_in_lbs\": 1985, \"Acceleration\": 19.4, \"Year\": \"1978-01-01T00:00:00\", \"Origin\": \"Japan\"}, {\"Name\": \"datsun b210 gx\", \"Miles_per_Gallon\": 39.4, \"Cylinders\": 4, \"Displacement\": 85.0, \"Horsepower\": 70.0, \"Weight_in_lbs\": 2070, \"Acceleration\": 18.6, \"Year\": \"1978-01-01T00:00:00\", \"Origin\": \"Japan\"}, {\"Name\": \"honda civic cvcc\", \"Miles_per_Gallon\": 36.1, \"Cylinders\": 4, \"Displacement\": 91.0, \"Horsepower\": 60.0, \"Weight_in_lbs\": 1800, \"Acceleration\": 16.4, \"Year\": \"1978-01-01T00:00:00\", \"Origin\": \"Japan\"}, {\"Name\": \"oldsmobile cutlass salon brougham\", \"Miles_per_Gallon\": 19.9, \"Cylinders\": 8, \"Displacement\": 260.0, \"Horsepower\": 110.0, \"Weight_in_lbs\": 3365, \"Acceleration\": 15.5, \"Year\": \"1978-01-01T00:00:00\", \"Origin\": \"USA\"}, {\"Name\": \"dodge diplomat\", \"Miles_per_Gallon\": 19.4, \"Cylinders\": 8, \"Displacement\": 318.0, \"Horsepower\": 140.0, \"Weight_in_lbs\": 3735, \"Acceleration\": 13.2, \"Year\": \"1978-01-01T00:00:00\", \"Origin\": \"USA\"}, {\"Name\": \"mercury monarch ghia\", \"Miles_per_Gallon\": 20.2, \"Cylinders\": 8, \"Displacement\": 302.0, \"Horsepower\": 139.0, \"Weight_in_lbs\": 3570, \"Acceleration\": 12.8, \"Year\": \"1978-01-01T00:00:00\", \"Origin\": \"USA\"}, {\"Name\": \"pontiac phoenix lj\", \"Miles_per_Gallon\": 19.2, \"Cylinders\": 6, \"Displacement\": 231.0, \"Horsepower\": 105.0, \"Weight_in_lbs\": 3535, \"Acceleration\": 19.2, \"Year\": \"1978-01-01T00:00:00\", \"Origin\": \"USA\"}, {\"Name\": \"chevrolet malibu\", \"Miles_per_Gallon\": 20.5, \"Cylinders\": 6, \"Displacement\": 200.0, \"Horsepower\": 95.0, \"Weight_in_lbs\": 3155, \"Acceleration\": 18.2, \"Year\": \"1978-01-01T00:00:00\", \"Origin\": \"USA\"}, {\"Name\": \"ford fairmont (auto)\", \"Miles_per_Gallon\": 20.2, \"Cylinders\": 6, \"Displacement\": 200.0, \"Horsepower\": 85.0, \"Weight_in_lbs\": 2965, \"Acceleration\": 15.8, \"Year\": \"1978-01-01T00:00:00\", \"Origin\": \"USA\"}, {\"Name\": \"ford fairmont (man)\", \"Miles_per_Gallon\": 25.1, \"Cylinders\": 4, \"Displacement\": 140.0, \"Horsepower\": 88.0, \"Weight_in_lbs\": 2720, \"Acceleration\": 15.4, \"Year\": \"1978-01-01T00:00:00\", \"Origin\": \"USA\"}, {\"Name\": \"plymouth volare\", \"Miles_per_Gallon\": 20.5, \"Cylinders\": 6, \"Displacement\": 225.0, \"Horsepower\": 100.0, \"Weight_in_lbs\": 3430, \"Acceleration\": 17.2, \"Year\": \"1978-01-01T00:00:00\", \"Origin\": \"USA\"}, {\"Name\": \"amc concord\", \"Miles_per_Gallon\": 19.4, \"Cylinders\": 6, \"Displacement\": 232.0, \"Horsepower\": 90.0, \"Weight_in_lbs\": 3210, \"Acceleration\": 17.2, \"Year\": \"1978-01-01T00:00:00\", \"Origin\": \"USA\"}, {\"Name\": \"buick century special\", \"Miles_per_Gallon\": 20.6, \"Cylinders\": 6, \"Displacement\": 231.0, \"Horsepower\": 105.0, \"Weight_in_lbs\": 3380, \"Acceleration\": 15.8, \"Year\": \"1978-01-01T00:00:00\", \"Origin\": \"USA\"}, {\"Name\": \"mercury zephyr\", \"Miles_per_Gallon\": 20.8, \"Cylinders\": 6, \"Displacement\": 200.0, \"Horsepower\": 85.0, \"Weight_in_lbs\": 3070, \"Acceleration\": 16.7, \"Year\": \"1978-01-01T00:00:00\", \"Origin\": \"USA\"}, {\"Name\": \"dodge aspen\", \"Miles_per_Gallon\": 18.6, \"Cylinders\": 6, \"Displacement\": 225.0, \"Horsepower\": 110.0, \"Weight_in_lbs\": 3620, \"Acceleration\": 18.7, \"Year\": \"1978-01-01T00:00:00\", \"Origin\": \"USA\"}, {\"Name\": \"amc concord d/l\", \"Miles_per_Gallon\": 18.1, \"Cylinders\": 6, \"Displacement\": 258.0, \"Horsepower\": 120.0, \"Weight_in_lbs\": 3410, \"Acceleration\": 15.1, \"Year\": \"1978-01-01T00:00:00\", \"Origin\": \"USA\"}, {\"Name\": \"chevrolet monte carlo landau\", \"Miles_per_Gallon\": 19.2, \"Cylinders\": 8, \"Displacement\": 305.0, \"Horsepower\": 145.0, \"Weight_in_lbs\": 3425, \"Acceleration\": 13.2, \"Year\": \"1978-01-01T00:00:00\", \"Origin\": \"USA\"}, {\"Name\": \"buick regal sport coupe (turbo)\", \"Miles_per_Gallon\": 17.7, \"Cylinders\": 6, \"Displacement\": 231.0, \"Horsepower\": 165.0, \"Weight_in_lbs\": 3445, \"Acceleration\": 13.4, \"Year\": \"1978-01-01T00:00:00\", \"Origin\": \"USA\"}, {\"Name\": \"ford futura\", \"Miles_per_Gallon\": 18.1, \"Cylinders\": 8, \"Displacement\": 302.0, \"Horsepower\": 139.0, \"Weight_in_lbs\": 3205, \"Acceleration\": 11.2, \"Year\": \"1978-01-01T00:00:00\", \"Origin\": \"USA\"}, {\"Name\": \"dodge magnum xe\", \"Miles_per_Gallon\": 17.5, \"Cylinders\": 8, \"Displacement\": 318.0, \"Horsepower\": 140.0, \"Weight_in_lbs\": 4080, \"Acceleration\": 13.7, \"Year\": \"1978-01-01T00:00:00\", \"Origin\": \"USA\"}, {\"Name\": \"chevrolet chevette\", \"Miles_per_Gallon\": 30.0, \"Cylinders\": 4, \"Displacement\": 98.0, \"Horsepower\": 68.0, \"Weight_in_lbs\": 2155, \"Acceleration\": 16.5, \"Year\": \"1978-01-01T00:00:00\", \"Origin\": \"USA\"}, {\"Name\": \"toyota corona\", \"Miles_per_Gallon\": 27.5, \"Cylinders\": 4, \"Displacement\": 134.0, \"Horsepower\": 95.0, \"Weight_in_lbs\": 2560, \"Acceleration\": 14.2, \"Year\": \"1978-01-01T00:00:00\", \"Origin\": \"Japan\"}, {\"Name\": \"datsun 510\", \"Miles_per_Gallon\": 27.2, \"Cylinders\": 4, \"Displacement\": 119.0, \"Horsepower\": 97.0, \"Weight_in_lbs\": 2300, \"Acceleration\": 14.7, \"Year\": \"1978-01-01T00:00:00\", \"Origin\": \"Japan\"}, {\"Name\": \"dodge omni\", \"Miles_per_Gallon\": 30.9, \"Cylinders\": 4, \"Displacement\": 105.0, \"Horsepower\": 75.0, \"Weight_in_lbs\": 2230, \"Acceleration\": 14.5, \"Year\": \"1978-01-01T00:00:00\", \"Origin\": \"USA\"}, {\"Name\": \"toyota celica gt liftback\", \"Miles_per_Gallon\": 21.1, \"Cylinders\": 4, \"Displacement\": 134.0, \"Horsepower\": 95.0, \"Weight_in_lbs\": 2515, \"Acceleration\": 14.8, \"Year\": \"1978-01-01T00:00:00\", \"Origin\": \"Japan\"}, {\"Name\": \"plymouth sapporo\", \"Miles_per_Gallon\": 23.2, \"Cylinders\": 4, \"Displacement\": 156.0, \"Horsepower\": 105.0, \"Weight_in_lbs\": 2745, \"Acceleration\": 16.7, \"Year\": \"1978-01-01T00:00:00\", \"Origin\": \"USA\"}, {\"Name\": \"oldsmobile starfire sx\", \"Miles_per_Gallon\": 23.8, \"Cylinders\": 4, \"Displacement\": 151.0, \"Horsepower\": 85.0, \"Weight_in_lbs\": 2855, \"Acceleration\": 17.6, \"Year\": \"1978-01-01T00:00:00\", \"Origin\": \"USA\"}, {\"Name\": \"datsun 200-sx\", \"Miles_per_Gallon\": 23.9, \"Cylinders\": 4, \"Displacement\": 119.0, \"Horsepower\": 97.0, \"Weight_in_lbs\": 2405, \"Acceleration\": 14.9, \"Year\": \"1978-01-01T00:00:00\", \"Origin\": \"Japan\"}, {\"Name\": \"audi 5000\", \"Miles_per_Gallon\": 20.3, \"Cylinders\": 5, \"Displacement\": 131.0, \"Horsepower\": 103.0, \"Weight_in_lbs\": 2830, \"Acceleration\": 15.9, \"Year\": \"1978-01-01T00:00:00\", \"Origin\": \"Europe\"}, {\"Name\": \"volvo 264gl\", \"Miles_per_Gallon\": 17.0, \"Cylinders\": 6, \"Displacement\": 163.0, \"Horsepower\": 125.0, \"Weight_in_lbs\": 3140, \"Acceleration\": 13.6, \"Year\": \"1978-01-01T00:00:00\", \"Origin\": \"Europe\"}, {\"Name\": \"saab 99gle\", \"Miles_per_Gallon\": 21.6, \"Cylinders\": 4, \"Displacement\": 121.0, \"Horsepower\": 115.0, \"Weight_in_lbs\": 2795, \"Acceleration\": 15.7, \"Year\": \"1978-01-01T00:00:00\", \"Origin\": \"Europe\"}, {\"Name\": \"peugeot 604sl\", \"Miles_per_Gallon\": 16.2, \"Cylinders\": 6, \"Displacement\": 163.0, \"Horsepower\": 133.0, \"Weight_in_lbs\": 3410, \"Acceleration\": 15.8, \"Year\": \"1978-01-01T00:00:00\", \"Origin\": \"Europe\"}, {\"Name\": \"volkswagen scirocco\", \"Miles_per_Gallon\": 31.5, \"Cylinders\": 4, \"Displacement\": 89.0, \"Horsepower\": 71.0, \"Weight_in_lbs\": 1990, \"Acceleration\": 14.9, \"Year\": \"1978-01-01T00:00:00\", \"Origin\": \"Europe\"}, {\"Name\": \"honda Accelerationord lx\", \"Miles_per_Gallon\": 29.5, \"Cylinders\": 4, \"Displacement\": 98.0, \"Horsepower\": 68.0, \"Weight_in_lbs\": 2135, \"Acceleration\": 16.6, \"Year\": \"1978-01-01T00:00:00\", \"Origin\": \"Japan\"}, {\"Name\": \"pontiac lemans v6\", \"Miles_per_Gallon\": 21.5, \"Cylinders\": 6, \"Displacement\": 231.0, \"Horsepower\": 115.0, \"Weight_in_lbs\": 3245, \"Acceleration\": 15.4, \"Year\": \"1979-01-01T00:00:00\", \"Origin\": \"USA\"}, {\"Name\": \"mercury zephyr 6\", \"Miles_per_Gallon\": 19.8, \"Cylinders\": 6, \"Displacement\": 200.0, \"Horsepower\": 85.0, \"Weight_in_lbs\": 2990, \"Acceleration\": 18.2, \"Year\": \"1979-01-01T00:00:00\", \"Origin\": \"USA\"}, {\"Name\": \"ford fairmont 4\", \"Miles_per_Gallon\": 22.3, \"Cylinders\": 4, \"Displacement\": 140.0, \"Horsepower\": 88.0, \"Weight_in_lbs\": 2890, \"Acceleration\": 17.3, \"Year\": \"1979-01-01T00:00:00\", \"Origin\": \"USA\"}, {\"Name\": \"amc concord dl 6\", \"Miles_per_Gallon\": 20.2, \"Cylinders\": 6, \"Displacement\": 232.0, \"Horsepower\": 90.0, \"Weight_in_lbs\": 3265, \"Acceleration\": 18.2, \"Year\": \"1979-01-01T00:00:00\", \"Origin\": \"USA\"}, {\"Name\": \"dodge aspen 6\", \"Miles_per_Gallon\": 20.6, \"Cylinders\": 6, \"Displacement\": 225.0, \"Horsepower\": 110.0, \"Weight_in_lbs\": 3360, \"Acceleration\": 16.6, \"Year\": \"1979-01-01T00:00:00\", \"Origin\": \"USA\"}, {\"Name\": \"chevrolet caprice classic\", \"Miles_per_Gallon\": 17.0, \"Cylinders\": 8, \"Displacement\": 305.0, \"Horsepower\": 130.0, \"Weight_in_lbs\": 3840, \"Acceleration\": 15.4, \"Year\": \"1979-01-01T00:00:00\", \"Origin\": \"USA\"}, {\"Name\": \"ford ltd landau\", \"Miles_per_Gallon\": 17.6, \"Cylinders\": 8, \"Displacement\": 302.0, \"Horsepower\": 129.0, \"Weight_in_lbs\": 3725, \"Acceleration\": 13.4, \"Year\": \"1979-01-01T00:00:00\", \"Origin\": \"USA\"}, {\"Name\": \"mercury grand marquis\", \"Miles_per_Gallon\": 16.5, \"Cylinders\": 8, \"Displacement\": 351.0, \"Horsepower\": 138.0, \"Weight_in_lbs\": 3955, \"Acceleration\": 13.2, \"Year\": \"1979-01-01T00:00:00\", \"Origin\": \"USA\"}, {\"Name\": \"dodge st. regis\", \"Miles_per_Gallon\": 18.2, \"Cylinders\": 8, \"Displacement\": 318.0, \"Horsepower\": 135.0, \"Weight_in_lbs\": 3830, \"Acceleration\": 15.2, \"Year\": \"1979-01-01T00:00:00\", \"Origin\": \"USA\"}, {\"Name\": \"buick estate wagon (sw)\", \"Miles_per_Gallon\": 16.9, \"Cylinders\": 8, \"Displacement\": 350.0, \"Horsepower\": 155.0, \"Weight_in_lbs\": 4360, \"Acceleration\": 14.9, \"Year\": \"1979-01-01T00:00:00\", \"Origin\": \"USA\"}, {\"Name\": \"ford country squire (sw)\", \"Miles_per_Gallon\": 15.5, \"Cylinders\": 8, \"Displacement\": 351.0, \"Horsepower\": 142.0, \"Weight_in_lbs\": 4054, \"Acceleration\": 14.3, \"Year\": \"1979-01-01T00:00:00\", \"Origin\": \"USA\"}, {\"Name\": \"chevrolet malibu classic (sw)\", \"Miles_per_Gallon\": 19.2, \"Cylinders\": 8, \"Displacement\": 267.0, \"Horsepower\": 125.0, \"Weight_in_lbs\": 3605, \"Acceleration\": 15.0, \"Year\": \"1979-01-01T00:00:00\", \"Origin\": \"USA\"}, {\"Name\": \"chrysler lebaron town @ country (sw)\", \"Miles_per_Gallon\": 18.5, \"Cylinders\": 8, \"Displacement\": 360.0, \"Horsepower\": 150.0, \"Weight_in_lbs\": 3940, \"Acceleration\": 13.0, \"Year\": \"1979-01-01T00:00:00\", \"Origin\": \"USA\"}, {\"Name\": \"vw rabbit custom\", \"Miles_per_Gallon\": 31.9, \"Cylinders\": 4, \"Displacement\": 89.0, \"Horsepower\": 71.0, \"Weight_in_lbs\": 1925, \"Acceleration\": 14.0, \"Year\": \"1979-01-01T00:00:00\", \"Origin\": \"Europe\"}, {\"Name\": \"maxda glc deluxe\", \"Miles_per_Gallon\": 34.1, \"Cylinders\": 4, \"Displacement\": 86.0, \"Horsepower\": 65.0, \"Weight_in_lbs\": 1975, \"Acceleration\": 15.2, \"Year\": \"1979-01-01T00:00:00\", \"Origin\": \"Japan\"}, {\"Name\": \"dodge colt hatchback custom\", \"Miles_per_Gallon\": 35.7, \"Cylinders\": 4, \"Displacement\": 98.0, \"Horsepower\": 80.0, \"Weight_in_lbs\": 1915, \"Acceleration\": 14.4, \"Year\": \"1979-01-01T00:00:00\", \"Origin\": \"USA\"}, {\"Name\": \"amc spirit dl\", \"Miles_per_Gallon\": 27.4, \"Cylinders\": 4, \"Displacement\": 121.0, \"Horsepower\": 80.0, \"Weight_in_lbs\": 2670, \"Acceleration\": 15.0, \"Year\": \"1979-01-01T00:00:00\", \"Origin\": \"USA\"}, {\"Name\": \"mercedes benz 300d\", \"Miles_per_Gallon\": 25.4, \"Cylinders\": 5, \"Displacement\": 183.0, \"Horsepower\": 77.0, \"Weight_in_lbs\": 3530, \"Acceleration\": 20.1, \"Year\": \"1979-01-01T00:00:00\", \"Origin\": \"Europe\"}, {\"Name\": \"cadillac eldorado\", \"Miles_per_Gallon\": 23.0, \"Cylinders\": 8, \"Displacement\": 350.0, \"Horsepower\": 125.0, \"Weight_in_lbs\": 3900, \"Acceleration\": 17.4, \"Year\": \"1979-01-01T00:00:00\", \"Origin\": \"USA\"}, {\"Name\": \"peugeot 504\", \"Miles_per_Gallon\": 27.2, \"Cylinders\": 4, \"Displacement\": 141.0, \"Horsepower\": 71.0, \"Weight_in_lbs\": 3190, \"Acceleration\": 24.8, \"Year\": \"1979-01-01T00:00:00\", \"Origin\": \"Europe\"}, {\"Name\": \"oldsmobile cutlass salon brougham\", \"Miles_per_Gallon\": 23.9, \"Cylinders\": 8, \"Displacement\": 260.0, \"Horsepower\": 90.0, \"Weight_in_lbs\": 3420, \"Acceleration\": 22.2, \"Year\": \"1979-01-01T00:00:00\", \"Origin\": \"USA\"}, {\"Name\": \"plymouth horizon\", \"Miles_per_Gallon\": 34.2, \"Cylinders\": 4, \"Displacement\": 105.0, \"Horsepower\": 70.0, \"Weight_in_lbs\": 2200, \"Acceleration\": 13.2, \"Year\": \"1979-01-01T00:00:00\", \"Origin\": \"USA\"}, {\"Name\": \"plymouth horizon tc3\", \"Miles_per_Gallon\": 34.5, \"Cylinders\": 4, \"Displacement\": 105.0, \"Horsepower\": 70.0, \"Weight_in_lbs\": 2150, \"Acceleration\": 14.9, \"Year\": \"1979-01-01T00:00:00\", \"Origin\": \"USA\"}, {\"Name\": \"datsun 210\", \"Miles_per_Gallon\": 31.8, \"Cylinders\": 4, \"Displacement\": 85.0, \"Horsepower\": 65.0, \"Weight_in_lbs\": 2020, \"Acceleration\": 19.2, \"Year\": \"1979-01-01T00:00:00\", \"Origin\": \"Japan\"}, {\"Name\": \"fiat strada custom\", \"Miles_per_Gallon\": 37.3, \"Cylinders\": 4, \"Displacement\": 91.0, \"Horsepower\": 69.0, \"Weight_in_lbs\": 2130, \"Acceleration\": 14.7, \"Year\": \"1979-01-01T00:00:00\", \"Origin\": \"Europe\"}, {\"Name\": \"buick skylark limited\", \"Miles_per_Gallon\": 28.4, \"Cylinders\": 4, \"Displacement\": 151.0, \"Horsepower\": 90.0, \"Weight_in_lbs\": 2670, \"Acceleration\": 16.0, \"Year\": \"1979-01-01T00:00:00\", \"Origin\": \"USA\"}, {\"Name\": \"chevrolet citation\", \"Miles_per_Gallon\": 28.8, \"Cylinders\": 6, \"Displacement\": 173.0, \"Horsepower\": 115.0, \"Weight_in_lbs\": 2595, \"Acceleration\": 11.3, \"Year\": \"1979-01-01T00:00:00\", \"Origin\": \"USA\"}, {\"Name\": \"oldsmobile omega brougham\", \"Miles_per_Gallon\": 26.8, \"Cylinders\": 6, \"Displacement\": 173.0, \"Horsepower\": 115.0, \"Weight_in_lbs\": 2700, \"Acceleration\": 12.9, \"Year\": \"1979-01-01T00:00:00\", \"Origin\": \"USA\"}, {\"Name\": \"pontiac phoenix\", \"Miles_per_Gallon\": 33.5, \"Cylinders\": 4, \"Displacement\": 151.0, \"Horsepower\": 90.0, \"Weight_in_lbs\": 2556, \"Acceleration\": 13.2, \"Year\": \"1979-01-01T00:00:00\", \"Origin\": \"USA\"}, {\"Name\": \"vw rabbit\", \"Miles_per_Gallon\": 41.5, \"Cylinders\": 4, \"Displacement\": 98.0, \"Horsepower\": 76.0, \"Weight_in_lbs\": 2144, \"Acceleration\": 14.7, \"Year\": \"1980-01-01T00:00:00\", \"Origin\": \"Europe\"}, {\"Name\": \"toyota corolla tercel\", \"Miles_per_Gallon\": 38.1, \"Cylinders\": 4, \"Displacement\": 89.0, \"Horsepower\": 60.0, \"Weight_in_lbs\": 1968, \"Acceleration\": 18.8, \"Year\": \"1980-01-01T00:00:00\", \"Origin\": \"Japan\"}, {\"Name\": \"chevrolet chevette\", \"Miles_per_Gallon\": 32.1, \"Cylinders\": 4, \"Displacement\": 98.0, \"Horsepower\": 70.0, \"Weight_in_lbs\": 2120, \"Acceleration\": 15.5, \"Year\": \"1980-01-01T00:00:00\", \"Origin\": \"USA\"}, {\"Name\": \"datsun 310\", \"Miles_per_Gallon\": 37.2, \"Cylinders\": 4, \"Displacement\": 86.0, \"Horsepower\": 65.0, \"Weight_in_lbs\": 2019, \"Acceleration\": 16.4, \"Year\": \"1980-01-01T00:00:00\", \"Origin\": \"Japan\"}, {\"Name\": \"chevrolet citation\", \"Miles_per_Gallon\": 28.0, \"Cylinders\": 4, \"Displacement\": 151.0, \"Horsepower\": 90.0, \"Weight_in_lbs\": 2678, \"Acceleration\": 16.5, \"Year\": \"1980-01-01T00:00:00\", \"Origin\": \"USA\"}, {\"Name\": \"ford fairmont\", \"Miles_per_Gallon\": 26.4, \"Cylinders\": 4, \"Displacement\": 140.0, \"Horsepower\": 88.0, \"Weight_in_lbs\": 2870, \"Acceleration\": 18.1, \"Year\": \"1980-01-01T00:00:00\", \"Origin\": \"USA\"}, {\"Name\": \"amc concord\", \"Miles_per_Gallon\": 24.3, \"Cylinders\": 4, \"Displacement\": 151.0, \"Horsepower\": 90.0, \"Weight_in_lbs\": 3003, \"Acceleration\": 20.1, \"Year\": \"1980-01-01T00:00:00\", \"Origin\": \"USA\"}, {\"Name\": \"dodge aspen\", \"Miles_per_Gallon\": 19.1, \"Cylinders\": 6, \"Displacement\": 225.0, \"Horsepower\": 90.0, \"Weight_in_lbs\": 3381, \"Acceleration\": 18.7, \"Year\": \"1980-01-01T00:00:00\", \"Origin\": \"USA\"}, {\"Name\": \"audi 4000\", \"Miles_per_Gallon\": 34.3, \"Cylinders\": 4, \"Displacement\": 97.0, \"Horsepower\": 78.0, \"Weight_in_lbs\": 2188, \"Acceleration\": 15.8, \"Year\": \"1980-01-01T00:00:00\", \"Origin\": \"Europe\"}, {\"Name\": \"toyota corona liftback\", \"Miles_per_Gallon\": 29.8, \"Cylinders\": 4, \"Displacement\": 134.0, \"Horsepower\": 90.0, \"Weight_in_lbs\": 2711, \"Acceleration\": 15.5, \"Year\": \"1980-01-01T00:00:00\", \"Origin\": \"Japan\"}, {\"Name\": \"mazda 626\", \"Miles_per_Gallon\": 31.3, \"Cylinders\": 4, \"Displacement\": 120.0, \"Horsepower\": 75.0, \"Weight_in_lbs\": 2542, \"Acceleration\": 17.5, \"Year\": \"1980-01-01T00:00:00\", \"Origin\": \"Japan\"}, {\"Name\": \"datsun 510 hatchback\", \"Miles_per_Gallon\": 37.0, \"Cylinders\": 4, \"Displacement\": 119.0, \"Horsepower\": 92.0, \"Weight_in_lbs\": 2434, \"Acceleration\": 15.0, \"Year\": \"1980-01-01T00:00:00\", \"Origin\": \"Japan\"}, {\"Name\": \"toyota corolla\", \"Miles_per_Gallon\": 32.2, \"Cylinders\": 4, \"Displacement\": 108.0, \"Horsepower\": 75.0, \"Weight_in_lbs\": 2265, \"Acceleration\": 15.2, \"Year\": \"1980-01-01T00:00:00\", \"Origin\": \"Japan\"}, {\"Name\": \"mazda glc\", \"Miles_per_Gallon\": 46.6, \"Cylinders\": 4, \"Displacement\": 86.0, \"Horsepower\": 65.0, \"Weight_in_lbs\": 2110, \"Acceleration\": 17.9, \"Year\": \"1980-01-01T00:00:00\", \"Origin\": \"Japan\"}, {\"Name\": \"dodge colt\", \"Miles_per_Gallon\": 27.9, \"Cylinders\": 4, \"Displacement\": 156.0, \"Horsepower\": 105.0, \"Weight_in_lbs\": 2800, \"Acceleration\": 14.4, \"Year\": \"1980-01-01T00:00:00\", \"Origin\": \"USA\"}, {\"Name\": \"datsun 210\", \"Miles_per_Gallon\": 40.8, \"Cylinders\": 4, \"Displacement\": 85.0, \"Horsepower\": 65.0, \"Weight_in_lbs\": 2110, \"Acceleration\": 19.2, \"Year\": \"1980-01-01T00:00:00\", \"Origin\": \"Japan\"}, {\"Name\": \"vw rabbit c (diesel)\", \"Miles_per_Gallon\": 44.3, \"Cylinders\": 4, \"Displacement\": 90.0, \"Horsepower\": 48.0, \"Weight_in_lbs\": 2085, \"Acceleration\": 21.7, \"Year\": \"1980-01-01T00:00:00\", \"Origin\": \"Europe\"}, {\"Name\": \"vw dasher (diesel)\", \"Miles_per_Gallon\": 43.4, \"Cylinders\": 4, \"Displacement\": 90.0, \"Horsepower\": 48.0, \"Weight_in_lbs\": 2335, \"Acceleration\": 23.7, \"Year\": \"1980-01-01T00:00:00\", \"Origin\": \"Europe\"}, {\"Name\": \"audi 5000s (diesel)\", \"Miles_per_Gallon\": 36.4, \"Cylinders\": 5, \"Displacement\": 121.0, \"Horsepower\": 67.0, \"Weight_in_lbs\": 2950, \"Acceleration\": 19.9, \"Year\": \"1980-01-01T00:00:00\", \"Origin\": \"Europe\"}, {\"Name\": \"mercedes-benz 240d\", \"Miles_per_Gallon\": 30.0, \"Cylinders\": 4, \"Displacement\": 146.0, \"Horsepower\": 67.0, \"Weight_in_lbs\": 3250, \"Acceleration\": 21.8, \"Year\": \"1980-01-01T00:00:00\", \"Origin\": \"Europe\"}, {\"Name\": \"honda civic 1500 gl\", \"Miles_per_Gallon\": 44.6, \"Cylinders\": 4, \"Displacement\": 91.0, \"Horsepower\": 67.0, \"Weight_in_lbs\": 1850, \"Acceleration\": 13.8, \"Year\": \"1980-01-01T00:00:00\", \"Origin\": \"Japan\"}, {\"Name\": \"renault lecar deluxe\", \"Miles_per_Gallon\": 40.9, \"Cylinders\": 4, \"Displacement\": 85.0, \"Horsepower\": null, \"Weight_in_lbs\": 1835, \"Acceleration\": 17.3, \"Year\": \"1980-01-01T00:00:00\", \"Origin\": \"Europe\"}, {\"Name\": \"subaru dl\", \"Miles_per_Gallon\": 33.8, \"Cylinders\": 4, \"Displacement\": 97.0, \"Horsepower\": 67.0, \"Weight_in_lbs\": 2145, \"Acceleration\": 18.0, \"Year\": \"1980-01-01T00:00:00\", \"Origin\": \"Japan\"}, {\"Name\": \"vokswagen rabbit\", \"Miles_per_Gallon\": 29.8, \"Cylinders\": 4, \"Displacement\": 89.0, \"Horsepower\": 62.0, \"Weight_in_lbs\": 1845, \"Acceleration\": 15.3, \"Year\": \"1980-01-01T00:00:00\", \"Origin\": \"Europe\"}, {\"Name\": \"datsun 280-zx\", \"Miles_per_Gallon\": 32.7, \"Cylinders\": 6, \"Displacement\": 168.0, \"Horsepower\": 132.0, \"Weight_in_lbs\": 2910, \"Acceleration\": 11.4, \"Year\": \"1980-01-01T00:00:00\", \"Origin\": \"Japan\"}, {\"Name\": \"mazda rx-7 gs\", \"Miles_per_Gallon\": 23.7, \"Cylinders\": 3, \"Displacement\": 70.0, \"Horsepower\": 100.0, \"Weight_in_lbs\": 2420, \"Acceleration\": 12.5, \"Year\": \"1980-01-01T00:00:00\", \"Origin\": \"Japan\"}, {\"Name\": \"triumph tr7 coupe\", \"Miles_per_Gallon\": 35.0, \"Cylinders\": 4, \"Displacement\": 122.0, \"Horsepower\": 88.0, \"Weight_in_lbs\": 2500, \"Acceleration\": 15.1, \"Year\": \"1980-01-01T00:00:00\", \"Origin\": \"Europe\"}, {\"Name\": \"ford mustang cobra\", \"Miles_per_Gallon\": 23.6, \"Cylinders\": 4, \"Displacement\": 140.0, \"Horsepower\": null, \"Weight_in_lbs\": 2905, \"Acceleration\": 14.3, \"Year\": \"1980-01-01T00:00:00\", \"Origin\": \"USA\"}, {\"Name\": \"honda Accelerationord\", \"Miles_per_Gallon\": 32.4, \"Cylinders\": 4, \"Displacement\": 107.0, \"Horsepower\": 72.0, \"Weight_in_lbs\": 2290, \"Acceleration\": 17.0, \"Year\": \"1980-01-01T00:00:00\", \"Origin\": \"Japan\"}, {\"Name\": \"plymouth reliant\", \"Miles_per_Gallon\": 27.2, \"Cylinders\": 4, \"Displacement\": 135.0, \"Horsepower\": 84.0, \"Weight_in_lbs\": 2490, \"Acceleration\": 15.7, \"Year\": \"1982-01-01T00:00:00\", \"Origin\": \"USA\"}, {\"Name\": \"buick skylark\", \"Miles_per_Gallon\": 26.6, \"Cylinders\": 4, \"Displacement\": 151.0, \"Horsepower\": 84.0, \"Weight_in_lbs\": 2635, \"Acceleration\": 16.4, \"Year\": \"1982-01-01T00:00:00\", \"Origin\": \"USA\"}, {\"Name\": \"dodge aries wagon (sw)\", \"Miles_per_Gallon\": 25.8, \"Cylinders\": 4, \"Displacement\": 156.0, \"Horsepower\": 92.0, \"Weight_in_lbs\": 2620, \"Acceleration\": 14.4, \"Year\": \"1982-01-01T00:00:00\", \"Origin\": \"USA\"}, {\"Name\": \"chevrolet citation\", \"Miles_per_Gallon\": 23.5, \"Cylinders\": 6, \"Displacement\": 173.0, \"Horsepower\": 110.0, \"Weight_in_lbs\": 2725, \"Acceleration\": 12.6, \"Year\": \"1982-01-01T00:00:00\", \"Origin\": \"USA\"}, {\"Name\": \"plymouth reliant\", \"Miles_per_Gallon\": 30.0, \"Cylinders\": 4, \"Displacement\": 135.0, \"Horsepower\": 84.0, \"Weight_in_lbs\": 2385, \"Acceleration\": 12.9, \"Year\": \"1982-01-01T00:00:00\", \"Origin\": \"USA\"}, {\"Name\": \"toyota starlet\", \"Miles_per_Gallon\": 39.1, \"Cylinders\": 4, \"Displacement\": 79.0, \"Horsepower\": 58.0, \"Weight_in_lbs\": 1755, \"Acceleration\": 16.9, \"Year\": \"1982-01-01T00:00:00\", \"Origin\": \"Japan\"}, {\"Name\": \"plymouth champ\", \"Miles_per_Gallon\": 39.0, \"Cylinders\": 4, \"Displacement\": 86.0, \"Horsepower\": 64.0, \"Weight_in_lbs\": 1875, \"Acceleration\": 16.4, \"Year\": \"1982-01-01T00:00:00\", \"Origin\": \"USA\"}, {\"Name\": \"honda civic 1300\", \"Miles_per_Gallon\": 35.1, \"Cylinders\": 4, \"Displacement\": 81.0, \"Horsepower\": 60.0, \"Weight_in_lbs\": 1760, \"Acceleration\": 16.1, \"Year\": \"1982-01-01T00:00:00\", \"Origin\": \"Japan\"}, {\"Name\": \"subaru\", \"Miles_per_Gallon\": 32.3, \"Cylinders\": 4, \"Displacement\": 97.0, \"Horsepower\": 67.0, \"Weight_in_lbs\": 2065, \"Acceleration\": 17.8, \"Year\": \"1982-01-01T00:00:00\", \"Origin\": \"Japan\"}, {\"Name\": \"datsun 210\", \"Miles_per_Gallon\": 37.0, \"Cylinders\": 4, \"Displacement\": 85.0, \"Horsepower\": 65.0, \"Weight_in_lbs\": 1975, \"Acceleration\": 19.4, \"Year\": \"1982-01-01T00:00:00\", \"Origin\": \"Japan\"}, {\"Name\": \"toyota tercel\", \"Miles_per_Gallon\": 37.7, \"Cylinders\": 4, \"Displacement\": 89.0, \"Horsepower\": 62.0, \"Weight_in_lbs\": 2050, \"Acceleration\": 17.3, \"Year\": \"1982-01-01T00:00:00\", \"Origin\": \"Japan\"}, {\"Name\": \"mazda glc 4\", \"Miles_per_Gallon\": 34.1, \"Cylinders\": 4, \"Displacement\": 91.0, \"Horsepower\": 68.0, \"Weight_in_lbs\": 1985, \"Acceleration\": 16.0, \"Year\": \"1982-01-01T00:00:00\", \"Origin\": \"Japan\"}, {\"Name\": \"plymouth horizon 4\", \"Miles_per_Gallon\": 34.7, \"Cylinders\": 4, \"Displacement\": 105.0, \"Horsepower\": 63.0, \"Weight_in_lbs\": 2215, \"Acceleration\": 14.9, \"Year\": \"1982-01-01T00:00:00\", \"Origin\": \"USA\"}, {\"Name\": \"ford escort 4w\", \"Miles_per_Gallon\": 34.4, \"Cylinders\": 4, \"Displacement\": 98.0, \"Horsepower\": 65.0, \"Weight_in_lbs\": 2045, \"Acceleration\": 16.2, \"Year\": \"1982-01-01T00:00:00\", \"Origin\": \"USA\"}, {\"Name\": \"ford escort 2h\", \"Miles_per_Gallon\": 29.9, \"Cylinders\": 4, \"Displacement\": 98.0, \"Horsepower\": 65.0, \"Weight_in_lbs\": 2380, \"Acceleration\": 20.7, \"Year\": \"1982-01-01T00:00:00\", \"Origin\": \"USA\"}, {\"Name\": \"volkswagen jetta\", \"Miles_per_Gallon\": 33.0, \"Cylinders\": 4, \"Displacement\": 105.0, \"Horsepower\": 74.0, \"Weight_in_lbs\": 2190, \"Acceleration\": 14.2, \"Year\": \"1982-01-01T00:00:00\", \"Origin\": \"Europe\"}, {\"Name\": \"renault 18i\", \"Miles_per_Gallon\": 34.5, \"Cylinders\": 4, \"Displacement\": 100.0, \"Horsepower\": null, \"Weight_in_lbs\": 2320, \"Acceleration\": 15.8, \"Year\": \"1982-01-01T00:00:00\", \"Origin\": \"Europe\"}, {\"Name\": \"honda prelude\", \"Miles_per_Gallon\": 33.7, \"Cylinders\": 4, \"Displacement\": 107.0, \"Horsepower\": 75.0, \"Weight_in_lbs\": 2210, \"Acceleration\": 14.4, \"Year\": \"1982-01-01T00:00:00\", \"Origin\": \"Japan\"}, {\"Name\": \"toyota corolla\", \"Miles_per_Gallon\": 32.4, \"Cylinders\": 4, \"Displacement\": 108.0, \"Horsepower\": 75.0, \"Weight_in_lbs\": 2350, \"Acceleration\": 16.8, \"Year\": \"1982-01-01T00:00:00\", \"Origin\": \"Japan\"}, {\"Name\": \"datsun 200sx\", \"Miles_per_Gallon\": 32.9, \"Cylinders\": 4, \"Displacement\": 119.0, \"Horsepower\": 100.0, \"Weight_in_lbs\": 2615, \"Acceleration\": 14.8, \"Year\": \"1982-01-01T00:00:00\", \"Origin\": \"Japan\"}, {\"Name\": \"mazda 626\", \"Miles_per_Gallon\": 31.6, \"Cylinders\": 4, \"Displacement\": 120.0, \"Horsepower\": 74.0, \"Weight_in_lbs\": 2635, \"Acceleration\": 18.3, \"Year\": \"1982-01-01T00:00:00\", \"Origin\": \"Japan\"}, {\"Name\": \"peugeot 505s turbo diesel\", \"Miles_per_Gallon\": 28.1, \"Cylinders\": 4, \"Displacement\": 141.0, \"Horsepower\": 80.0, \"Weight_in_lbs\": 3230, \"Acceleration\": 20.4, \"Year\": \"1982-01-01T00:00:00\", \"Origin\": \"Europe\"}, {\"Name\": \"saab 900s\", \"Miles_per_Gallon\": null, \"Cylinders\": 4, \"Displacement\": 121.0, \"Horsepower\": 110.0, \"Weight_in_lbs\": 2800, \"Acceleration\": 15.4, \"Year\": \"1982-01-01T00:00:00\", \"Origin\": \"Europe\"}, {\"Name\": \"volvo diesel\", \"Miles_per_Gallon\": 30.7, \"Cylinders\": 6, \"Displacement\": 145.0, \"Horsepower\": 76.0, \"Weight_in_lbs\": 3160, \"Acceleration\": 19.6, \"Year\": \"1982-01-01T00:00:00\", \"Origin\": \"Europe\"}, {\"Name\": \"toyota cressida\", \"Miles_per_Gallon\": 25.4, \"Cylinders\": 6, \"Displacement\": 168.0, \"Horsepower\": 116.0, \"Weight_in_lbs\": 2900, \"Acceleration\": 12.6, \"Year\": \"1982-01-01T00:00:00\", \"Origin\": \"Japan\"}, {\"Name\": \"datsun 810 maxima\", \"Miles_per_Gallon\": 24.2, \"Cylinders\": 6, \"Displacement\": 146.0, \"Horsepower\": 120.0, \"Weight_in_lbs\": 2930, \"Acceleration\": 13.8, \"Year\": \"1982-01-01T00:00:00\", \"Origin\": \"Japan\"}, {\"Name\": \"buick century\", \"Miles_per_Gallon\": 22.4, \"Cylinders\": 6, \"Displacement\": 231.0, \"Horsepower\": 110.0, \"Weight_in_lbs\": 3415, \"Acceleration\": 15.8, \"Year\": \"1982-01-01T00:00:00\", \"Origin\": \"USA\"}, {\"Name\": \"oldsmobile cutlass ls\", \"Miles_per_Gallon\": 26.6, \"Cylinders\": 8, \"Displacement\": 350.0, \"Horsepower\": 105.0, \"Weight_in_lbs\": 3725, \"Acceleration\": 19.0, \"Year\": \"1982-01-01T00:00:00\", \"Origin\": \"USA\"}, {\"Name\": \"ford granada gl\", \"Miles_per_Gallon\": 20.2, \"Cylinders\": 6, \"Displacement\": 200.0, \"Horsepower\": 88.0, \"Weight_in_lbs\": 3060, \"Acceleration\": 17.1, \"Year\": \"1982-01-01T00:00:00\", \"Origin\": \"USA\"}, {\"Name\": \"chrysler lebaron salon\", \"Miles_per_Gallon\": 17.6, \"Cylinders\": 6, \"Displacement\": 225.0, \"Horsepower\": 85.0, \"Weight_in_lbs\": 3465, \"Acceleration\": 16.6, \"Year\": \"1982-01-01T00:00:00\", \"Origin\": \"USA\"}, {\"Name\": \"chevrolet cavalier\", \"Miles_per_Gallon\": 28.0, \"Cylinders\": 4, \"Displacement\": 112.0, \"Horsepower\": 88.0, \"Weight_in_lbs\": 2605, \"Acceleration\": 19.6, \"Year\": \"1982-01-01T00:00:00\", \"Origin\": \"USA\"}, {\"Name\": \"chevrolet cavalier wagon\", \"Miles_per_Gallon\": 27.0, \"Cylinders\": 4, \"Displacement\": 112.0, \"Horsepower\": 88.0, \"Weight_in_lbs\": 2640, \"Acceleration\": 18.6, \"Year\": \"1982-01-01T00:00:00\", \"Origin\": \"USA\"}, {\"Name\": \"chevrolet cavalier 2-door\", \"Miles_per_Gallon\": 34.0, \"Cylinders\": 4, \"Displacement\": 112.0, \"Horsepower\": 88.0, \"Weight_in_lbs\": 2395, \"Acceleration\": 18.0, \"Year\": \"1982-01-01T00:00:00\", \"Origin\": \"USA\"}, {\"Name\": \"pontiac j2000 se hatchback\", \"Miles_per_Gallon\": 31.0, \"Cylinders\": 4, \"Displacement\": 112.0, \"Horsepower\": 85.0, \"Weight_in_lbs\": 2575, \"Acceleration\": 16.2, \"Year\": \"1982-01-01T00:00:00\", \"Origin\": \"USA\"}, {\"Name\": \"dodge aries se\", \"Miles_per_Gallon\": 29.0, \"Cylinders\": 4, \"Displacement\": 135.0, \"Horsepower\": 84.0, \"Weight_in_lbs\": 2525, \"Acceleration\": 16.0, \"Year\": \"1982-01-01T00:00:00\", \"Origin\": \"USA\"}, {\"Name\": \"pontiac phoenix\", \"Miles_per_Gallon\": 27.0, \"Cylinders\": 4, \"Displacement\": 151.0, \"Horsepower\": 90.0, \"Weight_in_lbs\": 2735, \"Acceleration\": 18.0, \"Year\": \"1982-01-01T00:00:00\", \"Origin\": \"USA\"}, {\"Name\": \"ford fairmont futura\", \"Miles_per_Gallon\": 24.0, \"Cylinders\": 4, \"Displacement\": 140.0, \"Horsepower\": 92.0, \"Weight_in_lbs\": 2865, \"Acceleration\": 16.4, \"Year\": \"1982-01-01T00:00:00\", \"Origin\": \"USA\"}, {\"Name\": \"amc concord dl\", \"Miles_per_Gallon\": 23.0, \"Cylinders\": 4, \"Displacement\": 151.0, \"Horsepower\": null, \"Weight_in_lbs\": 3035, \"Acceleration\": 20.5, \"Year\": \"1982-01-01T00:00:00\", \"Origin\": \"USA\"}, {\"Name\": \"volkswagen rabbit l\", \"Miles_per_Gallon\": 36.0, \"Cylinders\": 4, \"Displacement\": 105.0, \"Horsepower\": 74.0, \"Weight_in_lbs\": 1980, \"Acceleration\": 15.3, \"Year\": \"1982-01-01T00:00:00\", \"Origin\": \"Europe\"}, {\"Name\": \"mazda glc custom l\", \"Miles_per_Gallon\": 37.0, \"Cylinders\": 4, \"Displacement\": 91.0, \"Horsepower\": 68.0, \"Weight_in_lbs\": 2025, \"Acceleration\": 18.2, \"Year\": \"1982-01-01T00:00:00\", \"Origin\": \"Japan\"}, {\"Name\": \"mazda glc custom\", \"Miles_per_Gallon\": 31.0, \"Cylinders\": 4, \"Displacement\": 91.0, \"Horsepower\": 68.0, \"Weight_in_lbs\": 1970, \"Acceleration\": 17.6, \"Year\": \"1982-01-01T00:00:00\", \"Origin\": \"Japan\"}, {\"Name\": \"plymouth horizon miser\", \"Miles_per_Gallon\": 38.0, \"Cylinders\": 4, \"Displacement\": 105.0, \"Horsepower\": 63.0, \"Weight_in_lbs\": 2125, \"Acceleration\": 14.7, \"Year\": \"1982-01-01T00:00:00\", \"Origin\": \"USA\"}, {\"Name\": \"mercury lynx l\", \"Miles_per_Gallon\": 36.0, \"Cylinders\": 4, \"Displacement\": 98.0, \"Horsepower\": 70.0, \"Weight_in_lbs\": 2125, \"Acceleration\": 17.3, \"Year\": \"1982-01-01T00:00:00\", \"Origin\": \"USA\"}, {\"Name\": \"nissan stanza xe\", \"Miles_per_Gallon\": 36.0, \"Cylinders\": 4, \"Displacement\": 120.0, \"Horsepower\": 88.0, \"Weight_in_lbs\": 2160, \"Acceleration\": 14.5, \"Year\": \"1982-01-01T00:00:00\", \"Origin\": \"Japan\"}, {\"Name\": \"honda Accelerationord\", \"Miles_per_Gallon\": 36.0, \"Cylinders\": 4, \"Displacement\": 107.0, \"Horsepower\": 75.0, \"Weight_in_lbs\": 2205, \"Acceleration\": 14.5, \"Year\": \"1982-01-01T00:00:00\", \"Origin\": \"Japan\"}, {\"Name\": \"toyota corolla\", \"Miles_per_Gallon\": 34.0, \"Cylinders\": 4, \"Displacement\": 108.0, \"Horsepower\": 70.0, \"Weight_in_lbs\": 2245, \"Acceleration\": 16.9, \"Year\": \"1982-01-01T00:00:00\", \"Origin\": \"Japan\"}, {\"Name\": \"honda civic\", \"Miles_per_Gallon\": 38.0, \"Cylinders\": 4, \"Displacement\": 91.0, \"Horsepower\": 67.0, \"Weight_in_lbs\": 1965, \"Acceleration\": 15.0, \"Year\": \"1982-01-01T00:00:00\", \"Origin\": \"Japan\"}, {\"Name\": \"honda civic (auto)\", \"Miles_per_Gallon\": 32.0, \"Cylinders\": 4, \"Displacement\": 91.0, \"Horsepower\": 67.0, \"Weight_in_lbs\": 1965, \"Acceleration\": 15.7, \"Year\": \"1982-01-01T00:00:00\", \"Origin\": \"Japan\"}, {\"Name\": \"datsun 310 gx\", \"Miles_per_Gallon\": 38.0, \"Cylinders\": 4, \"Displacement\": 91.0, \"Horsepower\": 67.0, \"Weight_in_lbs\": 1995, \"Acceleration\": 16.2, \"Year\": \"1982-01-01T00:00:00\", \"Origin\": \"Japan\"}, {\"Name\": \"buick century limited\", \"Miles_per_Gallon\": 25.0, \"Cylinders\": 6, \"Displacement\": 181.0, \"Horsepower\": 110.0, \"Weight_in_lbs\": 2945, \"Acceleration\": 16.4, \"Year\": \"1982-01-01T00:00:00\", \"Origin\": \"USA\"}, {\"Name\": \"oldsmobile cutlass ciera (diesel)\", \"Miles_per_Gallon\": 38.0, \"Cylinders\": 6, \"Displacement\": 262.0, \"Horsepower\": 85.0, \"Weight_in_lbs\": 3015, \"Acceleration\": 17.0, \"Year\": \"1982-01-01T00:00:00\", \"Origin\": \"USA\"}, {\"Name\": \"chrysler lebaron medallion\", \"Miles_per_Gallon\": 26.0, \"Cylinders\": 4, \"Displacement\": 156.0, \"Horsepower\": 92.0, \"Weight_in_lbs\": 2585, \"Acceleration\": 14.5, \"Year\": \"1982-01-01T00:00:00\", \"Origin\": \"USA\"}, {\"Name\": \"ford granada l\", \"Miles_per_Gallon\": 22.0, \"Cylinders\": 6, \"Displacement\": 232.0, \"Horsepower\": 112.0, \"Weight_in_lbs\": 2835, \"Acceleration\": 14.7, \"Year\": \"1982-01-01T00:00:00\", \"Origin\": \"USA\"}, {\"Name\": \"toyota celica gt\", \"Miles_per_Gallon\": 32.0, \"Cylinders\": 4, \"Displacement\": 144.0, \"Horsepower\": 96.0, \"Weight_in_lbs\": 2665, \"Acceleration\": 13.9, \"Year\": \"1982-01-01T00:00:00\", \"Origin\": \"Japan\"}, {\"Name\": \"dodge charger 2.2\", \"Miles_per_Gallon\": 36.0, \"Cylinders\": 4, \"Displacement\": 135.0, \"Horsepower\": 84.0, \"Weight_in_lbs\": 2370, \"Acceleration\": 13.0, \"Year\": \"1982-01-01T00:00:00\", \"Origin\": \"USA\"}, {\"Name\": \"chevrolet camaro\", \"Miles_per_Gallon\": 27.0, \"Cylinders\": 4, \"Displacement\": 151.0, \"Horsepower\": 90.0, \"Weight_in_lbs\": 2950, \"Acceleration\": 17.3, \"Year\": \"1982-01-01T00:00:00\", \"Origin\": \"USA\"}, {\"Name\": \"ford mustang gl\", \"Miles_per_Gallon\": 27.0, \"Cylinders\": 4, \"Displacement\": 140.0, \"Horsepower\": 86.0, \"Weight_in_lbs\": 2790, \"Acceleration\": 15.6, \"Year\": \"1982-01-01T00:00:00\", \"Origin\": \"USA\"}, {\"Name\": \"vw pickup\", \"Miles_per_Gallon\": 44.0, \"Cylinders\": 4, \"Displacement\": 97.0, \"Horsepower\": 52.0, \"Weight_in_lbs\": 2130, \"Acceleration\": 24.6, \"Year\": \"1982-01-01T00:00:00\", \"Origin\": \"Europe\"}, {\"Name\": \"dodge rampage\", \"Miles_per_Gallon\": 32.0, \"Cylinders\": 4, \"Displacement\": 135.0, \"Horsepower\": 84.0, \"Weight_in_lbs\": 2295, \"Acceleration\": 11.6, \"Year\": \"1982-01-01T00:00:00\", \"Origin\": \"USA\"}, {\"Name\": \"ford ranger\", \"Miles_per_Gallon\": 28.0, \"Cylinders\": 4, \"Displacement\": 120.0, \"Horsepower\": 79.0, \"Weight_in_lbs\": 2625, \"Acceleration\": 18.6, \"Year\": \"1982-01-01T00:00:00\", \"Origin\": \"USA\"}, {\"Name\": \"chevy s-10\", \"Miles_per_Gallon\": 31.0, \"Cylinders\": 4, \"Displacement\": 119.0, \"Horsepower\": 82.0, \"Weight_in_lbs\": 2720, \"Acceleration\": 19.4, \"Year\": \"1982-01-01T00:00:00\", \"Origin\": \"USA\"}]}}, {\"mode\": \"vega-lite\"});\n",
              "</script>"
            ],
            "text/plain": [
              "alt.Chart(...)"
            ]
          },
          "metadata": {},
          "execution_count": 5
        }
      ]
    },
    {
      "cell_type": "markdown",
      "metadata": {
        "id": "dSdtwHgAOP0o"
      },
      "source": [
        "# Task 2: Introduction to Machine Learning\n",
        "\n",
        "Machine learning involves building mathematical models to help understand data. At the most fundamental level, machine learning can be categorized into two main types: supervised learning and unsupervised learning.\n",
        "\n",
        "- *Supervised learning*: Models that can predict labels based on labeled training data\n",
        "\n",
        "  - *Regression*: Models that predict continuous labels\n",
        "  - *Classification*: Models that predict labels as two or more discrete categories\n",
        "  \n",
        "- *Unsupervised learning*: Models that identify structure in unlabeled data\n",
        "\n",
        "  - *Clustering*: Models that detect and identify distinct groups in the data\n",
        "  - *Dimensionality reduction*: Models that detect and identify lower-dimensional structure in higher-dimensional data\n",
        "\n",
        "In addition, there are so-called semi-supervised learning methods, which falls somewhere between supervised learning and unsupervised learning. Semi-supervised learning methods are often useful when only incomplete labels are available.\n",
        "\n",
        "We will see examples of both types of supervised learning in the following section."
      ]
    },
    {
      "cell_type": "markdown",
      "metadata": {
        "id": "-r5fSToNnp4H"
      },
      "source": [
        "## Lab Activities 1: Linear Regression\n",
        "\n",
        "Linear regression models are a good starting point for regression tasks. Such models are popular because they can be fit very quickly, and are very interpretable. You are probably familiar with the simplest form of a linear regression model (i.e., fitting a straight line to data) but such models can be extended to model more complicated data behavior.\n",
        "\n",
        "In this section we will start with a quick intuitive walk-through of the mathematics behind this well-known problem, before seeing how before moving on to see how linear models can be generalized to account for more complicated patterns in data.\n",
        "We begin with the standard imports:"
      ]
    },
    {
      "cell_type": "markdown",
      "metadata": {
        "id": "06yHJQNQG-Z0"
      },
      "source": [
        "### Method 1: Manual Formulation\n",
        "Linear regression is a method used to find a relationship between a dependent variable and a set of independent variables.\n",
        "\n",
        "We will start with the most familiar linear regression, a straight-line fit to observed data.\n",
        "A straight-line fit is a model of the form\n",
        "$$\n",
        "y = w * x + b\n",
        "$$\n",
        "where\n",
        "\n",
        "* $y$ is the dependent variable\n",
        "* $x$ is the independent variable\n",
        "* $w$ is the *slope* also known as weight matrix\n",
        "* $b$ is the *intercept* also known as bias\n",
        "\n",
        "First we will import the library and necessary datasets."
      ]
    },
    {
      "cell_type": "code",
      "metadata": {
        "id": "dla6FmUYPDYg"
      },
      "source": [
        "# Import numpy, pandas and sklearn Library\n",
        "\n",
        "# Python library used for working with arrays.\n",
        "# It also has functions for working in domain of linear algebra, fourier transform, and matrices.\n",
        "import numpy as np\n",
        "\n",
        "# Python library for data manipulation and analysis.\n",
        "# It offers data structures and operations for manipulating numerical tables and time series.\n",
        "import pandas as pd\n",
        "\n",
        "# Plotting library for the Python programming language\n",
        "import matplotlib.pyplot as plt"
      ],
      "execution_count": null,
      "outputs": []
    },
    {
      "cell_type": "markdown",
      "metadata": {
        "id": "-CabN689b-wX"
      },
      "source": [
        "Download the Student Scores dataset from [this link](https://drive.google.com/file/d/1rYZpCo53uo2Bx-UbNVJ9mmDyKaHeDSIZ/view?usp=sharing) and upload to the session storage."
      ]
    },
    {
      "cell_type": "code",
      "metadata": {
        "id": "ieiNibKcaZhz"
      },
      "source": [
        "### YOUR CODE STARTS HERE\n",
        "\n",
        "# Import the student_scores.csv as pandas dataframe using 'read_csv()' function (1 line)\n",
        "dataset =\n",
        "\n",
        "## YOUR CODE ENDS HERE ##\n",
        "\n",
        "dataset"
      ],
      "execution_count": null,
      "outputs": []
    },
    {
      "cell_type": "markdown",
      "metadata": {
        "id": "unZzVd3-jKwA"
      },
      "source": [
        "The next step is to divide the data into \"attributes\" and \"labels\".\n",
        "\n",
        "Attributes are the independent variables while labels are dependent variables whose values are to be predicted. In our dataset we only have two columns. We want to predict the percentage score depending upon the hours studied.\n",
        "\n",
        "Therefore our attribute set will consist of the \"Hours\" column, and the label will be the \"Score\" column. To extract the attributes and labels, execute the following script:"
      ]
    },
    {
      "cell_type": "code",
      "metadata": {
        "id": "tK_UEY_Wc12a"
      },
      "source": [
        "## YOUR CODE STARTS HERE ##\n",
        "\n",
        "# Preparing the Dataset with attribute \"Hours\" as 'x' and labels \"Score\" as 'y'\n",
        "x =\n",
        "y =\n",
        "\n",
        "## YOUR CODE ENDS HERE ##"
      ],
      "execution_count": null,
      "outputs": []
    },
    {
      "cell_type": "code",
      "metadata": {
        "id": "wnQSfbL0aeaf"
      },
      "source": [
        "## YOUR CODE STARTS HERE ##\n",
        "#  Plot the dataset in scatter plot with x and y\n",
        "\n",
        "## YOUR CODE ENDS HERE ##\n",
        "\n",
        "plt.title('Dataset')\n",
        "plt.show()"
      ],
      "execution_count": null,
      "outputs": []
    },
    {
      "cell_type": "markdown",
      "metadata": {
        "id": "pPfvtJ47gKLu"
      },
      "source": [
        "To create the model’s equation we have to get the value of $w$ and $b$ , we can get this from the Y and X with the equations below:\n",
        "\n",
        "$$\n",
        " w = \\frac{\\sum (x_i - \\bar{x}) (y_i - \\bar{y})}{\\sum (x_i - \\bar{x})^2}\n",
        "$$\n",
        "\n",
        "$$\n",
        " b = \\bar{y} - w \\bar{x}\n",
        "$$"
      ]
    },
    {
      "cell_type": "code",
      "metadata": {
        "id": "AQTcLVgpU1vp"
      },
      "source": [
        "## YOUR CODE STARTS HERE ##\n",
        "# Calculate the slope, define the slope function (1 line)\n",
        "w =\n",
        "\n",
        "#np.mean, np.sum, **2\n",
        "\n",
        "# Calculate the intercept, define the intercept function\n",
        "b =\n",
        "\n",
        "# Define your model's equation with the slope and intercept formula defined above\n",
        "def f(x):\n",
        "  return\n",
        "\n",
        "## YOUR CODE ENDS HERE ##\n"
      ],
      "execution_count": null,
      "outputs": []
    },
    {
      "cell_type": "code",
      "source": [
        "# Plot your model equation on the dataset\n",
        "plt.plot(x, f(x), color='red')\n",
        "plt.scatter(x, y, color='blue')\n",
        "plt.xlabel('Hours of study')\n",
        "plt.ylabel('Test scores')\n",
        "plt.title('Dataset')\n",
        "plt.show()"
      ],
      "metadata": {
        "id": "QQfWYyME-UBZ"
      },
      "execution_count": null,
      "outputs": []
    },
    {
      "cell_type": "markdown",
      "metadata": {
        "id": "w0IIIvrmOdqW"
      },
      "source": [
        "To blow your mind now, did you know that this is the model’s equation. and we just created a model without using scikit learn. We will confirm it now using the second method which is the scikit learn Linear Regression package"
      ]
    },
    {
      "cell_type": "markdown",
      "metadata": {
        "id": "4DiPSscNfan6"
      },
      "source": [
        "### Method 2: Using scikit-learn\n",
        "\n",
        "There are several Python libraries that provide solid implementations of a range of machine learning algorithms.\n",
        "One of the best known is [Scikit-Learn](http://scikit-learn.org), a package that provides efficient versions of a large number of common algorithms.\n",
        "\n",
        "**Preparing the dataset**\n",
        "\n",
        "Now that we have our attributes and labels, the next step is to split this data into training and test sets. We'll do this by using Scikit-Learn's built-in `train_test_split()` method."
      ]
    },
    {
      "cell_type": "code",
      "metadata": {
        "id": "F_rdJL0Bjax2"
      },
      "source": [
        "## YOUR CODE STARTS HERE ##\n",
        "\n",
        "from sklearn.model_selection import train_test_split\n",
        "\n",
        "# Split the data and targets into training/testing sets (1 line) (20% for testing and 80% for training)\n",
        "X_train, X_test, y_train, y_test =\n",
        "\n",
        "## YOUR CODE ENDS HERE\n",
        "\n",
        "# Reshape the array - the shape of the array (how you present your data) is important\n",
        "X_train_array = X_train.values.reshape(-1,1)\n",
        "X_test_array = X_test.values.reshape(-1,1)\n",
        "y_train_array = y_train.values.reshape(-1,1)\n",
        "y_test_array = y_test.values.reshape(-1,1)\n",
        "\n",
        "#reshape(-1,1):\n",
        "#-1 means that it is an unknown dimension and we want numpy to figure it out\n",
        "#1: specifies that the reshaped array should have exactly 1 column."
      ],
      "execution_count": null,
      "outputs": []
    },
    {
      "cell_type": "markdown",
      "metadata": {
        "id": "ypuJycYSjt1X"
      },
      "source": [
        "The above script splits 80% of the data to training set while 20% of the data to test set. The test_size variable is where we actually specify the proportion of test set\n",
        "\n",
        "**Training the Algorithm**\n",
        "\n",
        "We have split our data into training and testing sets, and now is finally the time to train our algorithm.\n",
        "\n",
        "With Scikit-Learn it is extremely straight forward to implement linear regression models, as all you really need to do is import the LinearRegression class, instantiate it, and call the `fit()` method along with our training data. This is about as simple as it gets when using a machine learning library to train on your data.\n"
      ]
    },
    {
      "cell_type": "code",
      "metadata": {
        "id": "JV04Q4jNkW-5"
      },
      "source": [
        "## YOUR CODE STARTS HERE ##\n",
        "\n",
        "from sklearn.linear_model import LinearRegression\n",
        "# Instantiate the Linear Regression Model (1 line)\n",
        "regressor =\n",
        "# Call the 'fit()' method along with our training data (1 line)\n",
        "\n",
        "## YOUR CODE ENDS HERE"
      ],
      "execution_count": null,
      "outputs": []
    },
    {
      "cell_type": "markdown",
      "metadata": {
        "id": "eiR98gE9ketU"
      },
      "source": [
        "In the theory section we said that linear regression model basically finds the best value for the intercept and slope, which results in a line that best fits the data. To see the value of the intercept and slop calculated by the linear regression algorithm for our dataset, execute the following code.\n"
      ]
    },
    {
      "cell_type": "code",
      "metadata": {
        "id": "XJlRUHpRkcGm"
      },
      "source": [
        "print(\"Model intercept:\", regressor.intercept_)\n",
        "print(\"Model slope:    \", regressor.coef_[0])"
      ],
      "execution_count": null,
      "outputs": []
    },
    {
      "cell_type": "markdown",
      "metadata": {
        "id": "SgRhjpwKlndc"
      },
      "source": [
        "**Making Predictions**\n",
        "\n",
        "Now that we have trained our algorithm, it's time to make some predictions. To do so, we will use our test data and see how accurately our algorithm predicts the percentage score. To make predictions on the test data, execute the following script:\n",
        "\n"
      ]
    },
    {
      "cell_type": "code",
      "metadata": {
        "id": "rGewSyWGlsUu"
      },
      "source": [
        "## YOUR CODE STARTS HERE\n",
        "\n",
        "# Call the 'predict()' method along with X_test to make prediction on the test data (1 line)\n",
        "y_pred =\n",
        "\n",
        "## YOUR CODE ENDS HERE ##"
      ],
      "execution_count": null,
      "outputs": []
    },
    {
      "cell_type": "markdown",
      "metadata": {
        "id": "zqFWUteRlv-Q"
      },
      "source": [
        "The `y_pred` is a numpy array that contains all the predicted values for the input values in the `x_test` series.\n",
        "\n",
        "To compare the actual output values for `x_test` with the predicted values, execute the following script:"
      ]
    },
    {
      "cell_type": "code",
      "metadata": {
        "id": "tnoXYOcPl1F3"
      },
      "source": [
        "df = pd.DataFrame({'Actual': y_test_array.flatten(), 'Predicted': y_pred.flatten()})\n",
        "df"
      ],
      "execution_count": null,
      "outputs": []
    },
    {
      "cell_type": "markdown",
      "metadata": {
        "id": "85fPBwfUl4q5"
      },
      "source": [
        "Though our model is not very precise, the predicted percentages are close to the actual ones.\n",
        "\n",
        "**Evaluating the Algorithm**\n",
        "\n",
        "The final step is to evaluate the performance of algorithm. This step is particularly important to compare how well different algorithms perform on a particular dataset. For regression algorithms, three evaluation metrics are commonly used:\n",
        "\n",
        "1. Mean Absolute Error (MAE) is the mean of the absolute value of the errors.\n",
        "\n",
        "2. Mean Squared Error (MSE) is the mean of the squared errors.\n",
        "\n",
        "3. Root Mean Squared Error (RMSE) is the square root of the mean of the squared errors.\n",
        "\n",
        "The Scikit-Learn library comes with pre-built functions that can be used to find out these values for us.\n",
        "\n",
        "Let's find the values for these metrics using our test data. Execute the following code:"
      ]
    },
    {
      "cell_type": "code",
      "metadata": {
        "id": "ldan1ScgmMH3"
      },
      "source": [
        "from sklearn import metrics\n",
        "print('Mean Absolute Error:', metrics.mean_absolute_error(y_test, y_pred))\n",
        "print('Mean Squared Error:', metrics.mean_squared_error(y_test, y_pred))\n",
        "print('Root Mean Squared Error:', np.sqrt(metrics.mean_squared_error(y_test, y_pred)))"
      ],
      "execution_count": null,
      "outputs": []
    },
    {
      "cell_type": "markdown",
      "metadata": {
        "id": "NaGQU1o5l94O"
      },
      "source": [
        "You can see that the value of root mean squared error is 4.64, which is less than 10% of the mean value of the percentages of all the students i.e. 51.48. This means that our algorithm did a decent job."
      ]
    },
    {
      "cell_type": "code",
      "metadata": {
        "id": "Xz5kOaViTaEa"
      },
      "source": [
        "## YOUR CODE STARTS HERE ##\n",
        "\n",
        "# Plot test outputs and prediction lines (2 lines)\n",
        "\n",
        "## YOUR CODE STARTS HERE ##"
      ],
      "execution_count": null,
      "outputs": []
    },
    {
      "cell_type": "markdown",
      "metadata": {
        "id": "_aUfK0evUXry"
      },
      "source": [
        "1. Why do slope and intercept results differs in Manual Computation and Scikit Learn method?\n",
        "\n",
        "\n",
        "2. What does slope means in Linear Regression (try to explain in the setting of hours studied and score)?\n",
        "\n",
        "\n",
        "3. What do MAE, MSE and RMSE tell you?\n",
        "\n",
        "\n"
      ]
    },
    {
      "cell_type": "markdown",
      "metadata": {
        "id": "pmGRaQagFLCk"
      },
      "source": [
        "# Task 3: MNIST Digit Classification\n",
        "\n",
        "This activity shows how scikit-learn can be used to recognize images of hand-written digits, from 0-9.\n",
        "\n",
        "* Support Vector Machine (SVM): supervised learning algorithm used for classification and regression tasks"
      ]
    },
    {
      "cell_type": "code",
      "metadata": {
        "id": "uxVnCuGdL2nQ"
      },
      "source": [
        "# Standard scientific Python imports\n",
        "import matplotlib.pyplot as plt\n",
        "\n",
        "# Import datasets, classifiers and performance metrics\n",
        "from sklearn import datasets, svm, metrics\n",
        "from sklearn.model_selection import train_test_split"
      ],
      "execution_count": null,
      "outputs": []
    },
    {
      "cell_type": "markdown",
      "metadata": {
        "id": "3GGKRbGaXBmi"
      },
      "source": [
        "The digits dataset consists of 8x8 pixel images of digits. The images attribute of the dataset stores 8x8 arrays of grayscale values for each image. We will use these arrays to visualize the first 4 images. The target attribute of the dataset stores the digit each image represents and this is included in the title of the 4 plots below.\n",
        "\n",
        "Note: if we were working from image files (e.g., ‘png’ files), we would load them using matplotlib.pyplot.imread."
      ]
    },
    {
      "cell_type": "code",
      "metadata": {
        "id": "xusZhl6xXDVi",
        "colab": {
          "base_uri": "https://localhost:8080/",
          "height": 227
        },
        "outputId": "8b13cf50-fffe-40af-d076-b1db778c264a"
      },
      "source": [
        "digits = datasets.load_digits()\n",
        "\n",
        "_, axes = plt.subplots(nrows=1, ncols=4, figsize=(10, 3))\n",
        "\n",
        "# Plot Datasets\n",
        "for ax, image, label in zip(axes, digits.images, digits.target):\n",
        "    ax.set_axis_off()\n",
        "    ax.imshow(image, cmap=plt.cm.gray_r, interpolation='nearest')\n",
        "    ax.set_title('Training: %i' % label)"
      ],
      "execution_count": null,
      "outputs": [
        {
          "output_type": "display_data",
          "data": {
            "text/plain": [
              "<Figure size 1000x300 with 4 Axes>"
            ],
            "image/png": "[encoded data removed]"
          },
          "metadata": {}
        }
      ]
    },
    {
      "cell_type": "markdown",
      "metadata": {
        "id": "Zr0xzEU5XO9n"
      },
      "source": [
        "To apply a classifier on this data, we need to flatten the images, turning each 2-D array of grayscale values from shape (8, 8) into shape (64,). Subsequently, the entire dataset will be of shape (n_samples, n_features), where n_samples is the number of images and n_features is the total number of pixels in each image.\n",
        "\n",
        "We can then split the data into train and test subsets and fit a support vector classifier on the train samples. The fitted classifier can subsequently be used to predict the value of the digit for the samples in the test subset."
      ]
    },
    {
      "cell_type": "code",
      "metadata": {
        "id": "5MJlaJvxXRpl"
      },
      "source": [
        "# flatten the images\n",
        "n_samples = len(digits.images)\n",
        "data = digits.images.reshape((n_samples, -1))\n",
        "\n",
        "\n",
        "## YOUR CODE STARTS HERE ##\n",
        "\n",
        "# Create a classifier: a support vector classifier with gamma value of 0.001 (1 line)\n",
        "clf = svm.SVC(gamma=0.001)\n",
        "\n",
        "# Split data into 50% train and 50% test subsets (1 line)\n",
        "X_train, X_test, y_train, y_test =\n",
        "\n",
        "# Learn the digits on the train subset (1 line)\n",
        "\n",
        "# Predict the value of the digit on the test subset (1 line)\n",
        "predicted =\n",
        "\n",
        "## YOUR CODE ENDS HERE ##"
      ],
      "execution_count": null,
      "outputs": []
    },
    {
      "cell_type": "markdown",
      "metadata": {
        "id": "Sc14PFMPXbha"
      },
      "source": [
        "Below we visualize the first 4 test samples and show their predicted digit value in the title."
      ]
    },
    {
      "cell_type": "code",
      "metadata": {
        "id": "rZJJdJA4Xcpd"
      },
      "source": [
        "_, axes = plt.subplots(nrows=1, ncols=4, figsize=(10, 3))\n",
        "for ax, image, prediction in zip(axes, X_test, predicted):\n",
        "    ax.set_axis_off()\n",
        "    image = image.reshape(8, 8)\n",
        "    ax.imshow(image, cmap=plt.cm.gray_r, interpolation='nearest')\n",
        "    ax.set_title(f'Prediction: {prediction}')"
      ],
      "execution_count": null,
      "outputs": []
    },
    {
      "cell_type": "markdown",
      "metadata": {
        "id": "d_0pREDcXc1F"
      },
      "source": [
        "[classification_report](https://scikit-learn.org/stable/modules/generated/sklearn.metrics.classification_report.html#sklearn.metrics.classification_report) builds a text report showing the main classification metrics."
      ]
    },
    {
      "cell_type": "code",
      "metadata": {
        "id": "i78DdrtFXiIo"
      },
      "source": [
        "print(f\"Classification report for classifier {clf}:\\n\"\n",
        "      f\"{metrics.classification_report(y_test, predicted)}\\n\")"
      ],
      "execution_count": null,
      "outputs": []
    },
    {
      "cell_type": "markdown",
      "metadata": {
        "id": "6N5OecBKXolY"
      },
      "source": [
        "We can also plot a [confusion matrix](https://scikit-learn.org/stable/modules/model_evaluation.html#confusion-matrix) of the true digit values and the predicted digit values."
      ]
    },
    {
      "cell_type": "code",
      "metadata": {
        "id": "JirCkRgIXov1"
      },
      "source": [
        "cm = metrics.confusion_matrix(y_test, predicted,  labels=clf.classes_)\n",
        "disp = metrics.ConfusionMatrixDisplay(confusion_matrix=cm,\n",
        "                              display_labels=clf.classes_)\n",
        "disp.plot()\n",
        "disp.figure_.suptitle(\"Confusion Matrix\")\n",
        "print(f\"Confusion matrix:\\n{disp.confusion_matrix}\")\n",
        "\n",
        "plt.show()"
      ],
      "execution_count": null,
      "outputs": []
    },
    {
      "cell_type": "markdown",
      "source": [
        "## Data Pre-processing\n",
        "In image processing, a kernel (also known as a convolution matrix or mask) is a small matrix used for various effects such as blurring, sharpening, embossing, and edge detection. This is achieved through a convolution operation, where each pixel in the output image is computed based on a function (the kernel) of the surrounding pixels (including itself) in the input image. Different pre-processing techniques can be applied to the input data to remove noise or enhance the quality of the data.\n",
        "\n",
        "Explore different image processing techniques below to see how that affect the classification results in the example above:\n",
        "\n",
        "\n",
        "*   Gaussian blur\n",
        "*   Sharpening\n",
        "*   Edge detection\n",
        "\n",
        "\n",
        "\n",
        "\n",
        "\n",
        "\n"
      ],
      "metadata": {
        "id": "WMXpHTkxbboW"
      }
    },
    {
      "cell_type": "code",
      "source": [
        "import cv2 as cv\n",
        "import numpy as np\n",
        "\n",
        "## YOUR CODE STARTS HERE ##\n",
        "# kernel for Gaussian blur\n",
        "kernel1 = (1 / 16.0) * np.array([[1., 2., 1.],\n",
        "                                  [2., 4., 2.],\n",
        "                                  [1., 2., 1.]])\n",
        "# kernel for sharpening an image\n",
        "kernel2 =\n",
        "# kernel for edge detection\n",
        "kernel3 =\n",
        "\n",
        "iteration = 1\n",
        "\n",
        "digitsIm = np.copy(digits.images)\n",
        "for i,image in enumerate(digits.images):\n",
        "   for j in range(iteration):\n",
        "    digitsIm[i] = cv.filter2D(src=image, ddepth=-1, kernel=kernel1)\n",
        "\n",
        "## YOUR CODE ENDS HERE ##\n",
        "\n",
        "# flatten the images\n",
        "n_samples = len(digits.images)\n",
        "data = digitsIm.reshape((n_samples, -1))\n",
        "\n",
        "# Create a classifier: a support vector classifier with gamma value of 0.001 (1 line)\n",
        "clf = svm.SVC(gamma=0.001)\n",
        "\n",
        "# Split data into 50% train and 50% test subsets (1 line)\n",
        "X_train, X_test, y_train, y_test = train_test_split(\n",
        "    data, digits.target, test_size=0.5, shuffle=False)\n",
        "\n",
        "# Learn the digits on the train subset (1 line)\n",
        "clf.fit(X_train, y_train)\n",
        "# Predict the value of the digit on the test subset (1 line)\n",
        "predicted = clf.predict(X_test)\n",
        "\n"
      ],
      "metadata": {
        "id": "FqcueF9udEY3"
      },
      "execution_count": null,
      "outputs": []
    },
    {
      "cell_type": "markdown",
      "source": [
        "Below we visualize the first 4 test samples (with image processing technique) and show their predicted digit value in the title. The classification report is generated."
      ],
      "metadata": {
        "id": "4lxo8dkveRvJ"
      }
    },
    {
      "cell_type": "code",
      "source": [
        "_, axes = plt.subplots(nrows=1, ncols=4, figsize=(10, 3))\n",
        "for ax, image, prediction in zip(axes, X_test, predicted):\n",
        "    ax.set_axis_off()\n",
        "    image = image.reshape(8, 8)\n",
        "    ax.imshow(image, cmap=plt.cm.gray_r, interpolation='nearest')\n",
        "    ax.set_title(f'Prediction: {prediction}')\n",
        "print(f\"Classification report for classifier {clf}:\\n\"\n",
        "      f\"{metrics.classification_report(y_test, predicted)}\\n\")"
      ],
      "metadata": {
        "id": "EyKA583heYVn"
      },
      "execution_count": null,
      "outputs": []
    },
    {
      "cell_type": "markdown",
      "source": [
        "Compare the confusion matrix before and after applying the image processing techniques."
      ],
      "metadata": {
        "id": "fEgyjwG8ep8I"
      }
    },
    {
      "cell_type": "code",
      "source": [
        "cm = metrics.confusion_matrix(y_test, predicted,  labels=clf.classes_)\n",
        "disp = metrics.ConfusionMatrixDisplay(confusion_matrix=cm,\n",
        "                              display_labels=clf.classes_)\n",
        "disp.plot()\n",
        "disp.figure_.suptitle(\"Confusion Matrix\")\n",
        "print(f\"Confusion matrix:\\n{disp.confusion_matrix}\")\n",
        "\n",
        "plt.show()"
      ],
      "metadata": {
        "id": "zlPxH4tsew1t"
      },
      "execution_count": null,
      "outputs": []
    },
    {
      "cell_type": "markdown",
      "source": [
        "## TODO Advanced task: Experiment with different gamma values and see how the results change.\n",
        "\n"
      ],
      "metadata": {
        "id": "o19zfhrzghRz"
      }
    },
    {
      "cell_type": "markdown",
      "metadata": {
        "id": "0wd9aC5VIcFJ"
      },
      "source": [
        "## Bits of Deep Learning Jargon\n",
        "\n",
        "Here is the modern deep learning terminology for all the pieces we may discuss in future labs:\n",
        "\n",
        "- The functional form of the *model* is called its *architecture* (but be careful—sometimes people use *model* as a synonym of *architecture*, so this can get confusing).\n",
        "- The *weights* are called *parameters*.\n",
        "- The *predictions* are calculated from the *independent variable*, which is the *data* not including the *labels*.\n",
        "- The *results* of the model are called *predictions*.\n",
        "- The measure of *performance* is called the *loss*.\n",
        "- The loss depends not only on the predictions, but also the correct *labels* (also known as *targets* or the *dependent variable*); e.g., \"dog\" or \"cat.\""
      ]
    },
    {
      "cell_type": "markdown",
      "metadata": {
        "id": "I-rklsthI7l4"
      },
      "source": [
        "\n",
        "\n",
        "```\n",
        "# This is formatted as code\n",
        "```\n",
        "\n",
        "## Image Recognizer Can Tackle Non-Image Task\n",
        "\n",
        "An image recognizer can, as its name suggests, only recognize images. But a lot of things can be represented as images, which means that an image recogniser can learn to complete many tasks.\n",
        "\n",
        "For instance, a sound can be converted to a spectrogram, which is a chart that shows the amount of each frequency at each time in an audio file. A student used this approach with Fast.ai to easily beat the published accuracy of a state-of-the-art [environmental sound detection model](https://medium.com/@etown/great-results-on-audio-classification-with-fastai-library-ccaf906c5f52) using a dataset of 8,732 urban sounds."
      ]
    },
    {
      "cell_type": "markdown",
      "metadata": {
        "id": "Xc4tJiWdJ35T"
      },
      "source": [
        "\n",
        "<img alt=\"show_batch with spectrograms of sounds\" width=\"400\" caption=\"show_batch with spectrograms of sounds\" id=\"img_spect\" src=\"https://miro.medium.com/max/1400/1*mrM9tIOZMW_2bxeW64dPog.png\">\n",
        "\n"
      ]
    },
    {
      "cell_type": "markdown",
      "metadata": {
        "id": "aaJTsKfjJloS"
      },
      "source": [
        "Another example comes from the paper [\"Malware Classification with Deep Convolutional Neural Networks\"](https://ieeexplore.ieee.org/abstract/document/8328749) by Mahmoud Kalash et al., which explains that \"the malware binary file is divided into 8-bit sequences which are then converted to equivalent decimal values. This decimal vector is reshaped and a gray-scale image is generated that represents the malware sample.\""
      ]
    },
    {
      "cell_type": "markdown",
      "metadata": {
        "id": "fSl2Lu2SJcNl"
      },
      "source": [
        "<img alt=\"Malware classification process\" width=\"623\" caption=\"Malware classification process\" id=\"malware_proc\" src=\"https://raw.githubusercontent.com/fastai/fastbook/master/images/att_00055.png\">"
      ]
    },
    {
      "cell_type": "markdown",
      "metadata": {
        "id": "wdS8syVsLszh"
      },
      "source": [
        "The authors then show \"pictures\" generated through this process of malware in different categories."
      ]
    },
    {
      "cell_type": "markdown",
      "metadata": {
        "id": "PZnNhnvGLkrA"
      },
      "source": [
        "<img alt=\"Malware examples\" width=\"650\" caption=\"Malware examples\" id=\"malware_eg\" src=\"https://raw.githubusercontent.com/fastai/fastbook/master/images/att_00056.png\">"
      ]
    },
    {
      "cell_type": "markdown",
      "metadata": {
        "id": "KxtdUHZtLcVG"
      },
      "source": [
        "As you can see, the different types of malware look very distinctive to the human eye. The model the researchers trained based on this image representation was more accurate at malware classification than any previous approach shown in the academic literature. This suggests a good rule of thumb for converting a dataset into an image representation: if the human eye can recognize categories from the images, then a deep learning model should be able to do so too.\n",
        "\n",
        "In general, you'll find that a small number of general approaches in deep learning can go a long way, if you're a bit creative in how you represent your data!"
      ]
    },
    {
      "cell_type": "markdown",
      "metadata": {
        "id": "yGXTSqjcKvHn"
      },
      "source": [
        "Reference:\n",
        "\n",
        "*   [Google Colab](http://colab.research.google.com/)\n",
        "*   [Fastai Open Source](https://docs.fast.ai)\n",
        "*   [Pytorch](https://pytorch.org/tutorials/beginner/deep_learning_60min_blitz.html)\n",
        "\n"
      ]
    }
  ]
}